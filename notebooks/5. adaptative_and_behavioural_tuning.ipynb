{
  "cells": [
    {
      "attachments": {},
      "cell_type": "markdown",
      "metadata": {
        "id": "_GqY8kyCGdWL"
      },
      "source": [
        "# Adaptative + Behavioural fine-tuning 🤖⚙️\n",
        "\n",
        "Okay, at this point we have already trained the base-bert-cased on our own dataset following the adaptative framework (MLM objective). Now, our model is supposed to be more adjusted to our specific medical domain in terms of semantics.\n",
        "\n",
        "In this experiment, we will further adjust our model to the objective task. This is, a round of behavioural fine-tuning over an already adapted backbone! Lets see what happens.\n",
        "\n",
        "<figure style='text-align:center';>\n",
        "  <img src=\"../data/images/A+BFT.png\">\n",
        "  \n",
        "  <figcaption>\n",
        "  Adaptative + Behavioural fine-tuning schema \n",
        "  </figcaption>\n",
        "</figure>\n",
        "\n",
        "Important points:\n",
        "* Dataset: [medical_questions_pairs](https://huggingface.co/datasets/medical_questions_pairs)\n",
        "* Model: [bert-base-cased](https://huggingface.co/bert-base-cased)\n",
        "* We will define auxiliar functions in auxiliar.py file\n",
        "* We will be logging the results in Weight&Biases.\n",
        "<br>"
      ]
    },
    {
      "cell_type": "code",
      "execution_count": 1,
      "metadata": {
        "id": "r1KTC0RxGdWR"
      },
      "outputs": [],
      "source": [
        "import torch\n",
        "import config\n",
        "\n",
        "if torch.cuda.is_available():\n",
        "   device = torch.device(\"cuda:0\")\n",
        "else:\n",
        "    device = torch.device(\"cpu\")"
      ]
    },
    {
      "cell_type": "code",
      "execution_count": 2,
      "metadata": {
        "colab": {
          "base_uri": "https://localhost:8080/"
        },
        "id": "Q1FgMRwhGdWU",
        "outputId": "21c7877d-90d9-4eca-9d09-1d034b09e140"
      },
      "outputs": [
        {
          "data": {
            "text/plain": [
              "device(type='cuda', index=0)"
            ]
          },
          "execution_count": 2,
          "metadata": {},
          "output_type": "execute_result"
        }
      ],
      "source": [
        "device"
      ]
    },
    {
      "cell_type": "markdown",
      "metadata": {
        "id": "x0ibsd7DGdWV"
      },
      "source": [
        "## 1. Data preparation"
      ]
    },
    {
      "cell_type": "markdown",
      "metadata": {
        "id": "Dmo09TKBGdWW"
      },
      "source": [
        "### 1.1. Import and set creation\n",
        "\n",
        "Import data and create partitions."
      ]
    },
    {
      "cell_type": "code",
      "execution_count": 2,
      "metadata": {
        "colab": {
          "base_uri": "https://localhost:8080/",
          "height": 104,
          "referenced_widgets": [
            "215fd17b454f46bbb5f9844f23a1cd6e",
            "04cf26a7dd76461d831d7c2b915bebcb",
            "cf0b8003a59e47f9ad19000f3f847c6c",
            "7c72959e863f4c0d9830f0604a68a5b2",
            "6205539c263f41fdae8935f446910618",
            "7b9854d5e22343e687b0b7b0f8442d9a",
            "644883f4ffa7424cb219fbfb6f6852b6",
            "1fd0757aeda747c9a5c97aa1bc2d558a",
            "645aadd3b84a49d591542ab64a93639c",
            "d52b2ebac7f34a48879f52c192c17317",
            "da92bfb065734552b89d39259be02977"
          ]
        },
        "id": "WhAvqETXGdWW",
        "outputId": "f594546d-c477-4dc3-ef7c-d409fbbdaf08"
      },
      "outputs": [
        {
          "name": "stderr",
          "output_type": "stream",
          "text": [
            "WARNING:datasets.builder:Found cached dataset medical_questions_pairs (/root/.cache/huggingface/datasets/medical_questions_pairs/default/0.0.0/db30a35b934dceb7abed5ef6b73a432bb59682d00e26f9a1acd960635333bc80)\n"
          ]
        },
        {
          "data": {
            "application/vnd.jupyter.widget-view+json": {
              "model_id": "215fd17b454f46bbb5f9844f23a1cd6e",
              "version_major": 2,
              "version_minor": 0
            },
            "text/plain": [
              "  0%|          | 0/1 [00:00<?, ?it/s]"
            ]
          },
          "metadata": {},
          "output_type": "display_data"
        },
        {
          "name": "stderr",
          "output_type": "stream",
          "text": [
            "WARNING:datasets.arrow_dataset:Loading cached split indices for dataset at /root/.cache/huggingface/datasets/medical_questions_pairs/default/0.0.0/db30a35b934dceb7abed5ef6b73a432bb59682d00e26f9a1acd960635333bc80/cache-3a6913e31ee3f147.arrow and /root/.cache/huggingface/datasets/medical_questions_pairs/default/0.0.0/db30a35b934dceb7abed5ef6b73a432bb59682d00e26f9a1acd960635333bc80/cache-55366722f45172c0.arrow\n"
          ]
        }
      ],
      "source": [
        "from datasets import load_dataset\n",
        "\n",
        "# Download and extract data\n",
        "data = load_dataset(\"medical_questions_pairs\")\n",
        "data = data['train']\n",
        "\n",
        "# Split it\n",
        "data = data.train_test_split(test_size=0.07, seed=config.SEED)"
      ]
    },
    {
      "cell_type": "code",
      "execution_count": 3,
      "metadata": {
        "colab": {
          "base_uri": "https://localhost:8080/"
        },
        "id": "Ea2NMw8LGdWX",
        "outputId": "fff2330d-fccd-4591-a3e4-75d1b2a1bcc9"
      },
      "outputs": [
        {
          "data": {
            "text/plain": [
              "DatasetDict({\n",
              "    train: Dataset({\n",
              "        features: ['dr_id', 'question_1', 'question_2', 'label'],\n",
              "        num_rows: 2834\n",
              "    })\n",
              "    test: Dataset({\n",
              "        features: ['dr_id', 'question_1', 'question_2', 'label'],\n",
              "        num_rows: 214\n",
              "    })\n",
              "})"
            ]
          },
          "execution_count": 3,
          "metadata": {},
          "output_type": "execute_result"
        }
      ],
      "source": [
        "data"
      ]
    },
    {
      "cell_type": "markdown",
      "metadata": {
        "id": "2lp1ABKfGdWY"
      },
      "source": [
        "As we can see, there is not that much ammount of samples. We will have to take that into consideration when training the models."
      ]
    },
    {
      "cell_type": "markdown",
      "metadata": {
        "id": "PdTAgAFGGdWZ"
      },
      "source": [
        "### 1.2. Tokenize and encode data\n",
        "\n",
        "As mentioned, we will use **bert-base-cased** tokenizer.\n",
        "\n",
        "**NOTE: If we had created a new version of the tokenizer during our adaptative fine-tuning (by adding new tokens to the vocab), we would need to use our new models checkpoint to load this tokenizer. We didn't so we can still use bert-base-cased.**"
      ]
    },
    {
      "cell_type": "code",
      "execution_count": 3,
      "metadata": {
        "id": "fsJnNoIuGdWZ"
      },
      "outputs": [],
      "source": [
        "from transformers import AutoTokenizer\n",
        "\n",
        "tokenizer = AutoTokenizer.from_pretrained(config.checkpoint, use_fast=True)"
      ]
    },
    {
      "cell_type": "code",
      "execution_count": 4,
      "metadata": {
        "colab": {
          "base_uri": "https://localhost:8080/"
        },
        "id": "-jqBJF_hGdWa",
        "outputId": "7b2d00af-ad57-4d40-dc1b-e11b486d39b0"
      },
      "outputs": [
        {
          "name": "stderr",
          "output_type": "stream",
          "text": [
            "WARNING:datasets.arrow_dataset:Loading cached processed dataset at /root/.cache/huggingface/datasets/medical_questions_pairs/default/0.0.0/db30a35b934dceb7abed5ef6b73a432bb59682d00e26f9a1acd960635333bc80/cache-15a9f5503307567b.arrow\n",
            "WARNING:datasets.arrow_dataset:Loading cached processed dataset at /root/.cache/huggingface/datasets/medical_questions_pairs/default/0.0.0/db30a35b934dceb7abed5ef6b73a432bb59682d00e26f9a1acd960635333bc80/cache-b823487c7d95692e.arrow\n"
          ]
        }
      ],
      "source": [
        "data = data.map(lambda x: tokenizer(x['question_1'], x['question_2'], truncation=True, padding='max_length'), batched=True)"
      ]
    },
    {
      "cell_type": "code",
      "execution_count": 5,
      "metadata": {
        "id": "qYfC3W5MGdWb"
      },
      "outputs": [],
      "source": [
        "from transformers import DataCollatorWithPadding\n",
        "\n",
        "data_collator = DataCollatorWithPadding(tokenizer=tokenizer)"
      ]
    },
    {
      "cell_type": "markdown",
      "metadata": {
        "id": "loMdt36qGdWf"
      },
      "source": [
        "## 2. Adapted backbone + Behavioural fine-tuning \n",
        "\n",
        "Okay! Time to train the model.\n",
        "\n",
        "Now, we will download our previously trained backbone from Weight&Biases and load it with an untrained classification head. \n",
        "\n",
        "For this experiment we are not freezing the encoder's parameters. We will train everything in order to adapt the whole thing to the objetive task."
      ]
    },
    {
      "cell_type": "code",
      "execution_count": 6,
      "metadata": {
        "colab": {
          "base_uri": "https://localhost:8080/",
          "height": 263
        },
        "id": "iLyHReu3ze7k",
        "outputId": "df38421c-143d-4a91-8c37-18ef29eb5491"
      },
      "outputs": [
        {
          "name": "stderr",
          "output_type": "stream",
          "text": [
            "ERROR:wandb.jupyter:Failed to detect the name of this notebook, you can set it manually with the WANDB_NOTEBOOK_NAME environment variable to enable code saving.\n",
            "\u001b[34m\u001b[1mwandb\u001b[0m: Currently logged in as: \u001b[33mjjceamoran\u001b[0m. Use \u001b[1m`wandb login --relogin`\u001b[0m to force relogin\n"
          ]
        },
        {
          "data": {
            "text/html": [
              "Tracking run with wandb version 0.13.7"
            ],
            "text/plain": [
              "<IPython.core.display.HTML object>"
            ]
          },
          "metadata": {},
          "output_type": "display_data"
        },
        {
          "data": {
            "text/html": [
              "Run data is saved locally in <code>/content/wandb/run-20221221_232728-123mbzuj</code>"
            ],
            "text/plain": [
              "<IPython.core.display.HTML object>"
            ]
          },
          "metadata": {},
          "output_type": "display_data"
        },
        {
          "data": {
            "text/html": [
              "Syncing run <strong><a href=\"https://wandb.ai/jjceamoran/uncategorized/runs/123mbzuj\" target=\"_blank\">stilted-voice-5</a></strong> to <a href=\"https://wandb.ai/jjceamoran/uncategorized\" target=\"_blank\">Weights & Biases</a> (<a href=\"https://wandb.me/run\" target=\"_blank\">docs</a>)<br/>"
            ],
            "text/plain": [
              "<IPython.core.display.HTML object>"
            ]
          },
          "metadata": {},
          "output_type": "display_data"
        },
        {
          "name": "stderr",
          "output_type": "stream",
          "text": [
            "\u001b[34m\u001b[1mwandb\u001b[0m: Downloading large artifact encoder:v0, 1240.91MB. 11 files... \n",
            "\u001b[34m\u001b[1mwandb\u001b[0m:   11 of 11 files downloaded.  \n",
            "Done. 0:0:4.5\n",
            "Some weights of the model checkpoint at /tmp/tmp4k00m412 were not used when initializing BertForSequenceClassification: ['cls.predictions.transform.LayerNorm.weight', 'cls.predictions.transform.dense.weight', 'cls.predictions.decoder.weight', 'cls.predictions.bias', 'cls.predictions.transform.dense.bias', 'cls.predictions.transform.LayerNorm.bias', 'cls.predictions.decoder.bias']\n",
            "- This IS expected if you are initializing BertForSequenceClassification from the checkpoint of a model trained on another task or with another architecture (e.g. initializing a BertForSequenceClassification model from a BertForPreTraining model).\n",
            "- This IS NOT expected if you are initializing BertForSequenceClassification from the checkpoint of a model that you expect to be exactly identical (initializing a BertForSequenceClassification model from a BertForSequenceClassification model).\n",
            "Some weights of BertForSequenceClassification were not initialized from the model checkpoint at /tmp/tmp4k00m412 and are newly initialized: ['bert.pooler.dense.weight', 'classifier.bias', 'classifier.weight', 'bert.pooler.dense.bias']\n",
            "You should probably TRAIN this model on a down-stream task to be able to use it for predictions and inference.\n"
          ]
        }
      ],
      "source": [
        "import wandb\n",
        "from tempfile import TemporaryDirectory\n",
        "from transformers import AutoModelForSequenceClassification\n",
        "\n",
        "# Download artifact to a temp dir\n",
        "with TemporaryDirectory() as temp_dir:\n",
        "  run = wandb.init()\n",
        "  artifact = run.use_artifact('jjceamoran/fine-tuning-mlms/encoder:v0', type='model')\n",
        "  artifact_dir = artifact.download(temp_dir)\n",
        "\n",
        "  model = AutoModelForSequenceClassification.from_pretrained(artifact_dir, num_labels=2)"
      ]
    },
    {
      "cell_type": "markdown",
      "metadata": {
        "id": "7yI93JWlGdWg"
      },
      "source": [
        "### 3.1. Init WandB"
      ]
    },
    {
      "cell_type": "code",
      "execution_count": 7,
      "metadata": {
        "colab": {
          "base_uri": "https://localhost:8080/"
        },
        "id": "2IX9tbfUGdWh",
        "outputId": "dc7b89d2-7a42-442a-b67e-ca54839d607a"
      },
      "outputs": [
        {
          "name": "stderr",
          "output_type": "stream",
          "text": [
            "\u001b[34m\u001b[1mwandb\u001b[0m: \u001b[33mWARNING\u001b[0m Calling wandb.login() after wandb.init() has no effect.\n"
          ]
        },
        {
          "data": {
            "text/plain": [
              "True"
            ]
          },
          "execution_count": 7,
          "metadata": {},
          "output_type": "execute_result"
        }
      ],
      "source": [
        "import wandb\n",
        "\n",
        "wandb.login()"
      ]
    },
    {
      "cell_type": "code",
      "execution_count": 8,
      "metadata": {
        "colab": {
          "base_uri": "https://localhost:8080/",
          "height": 173
        },
        "id": "O0uQPh8cGdWh",
        "outputId": "bf6aa0d6-b778-424d-c8f8-c6e109a50c7d"
      },
      "outputs": [
        {
          "data": {
            "text/html": [
              "Finishing last run (ID:123mbzuj) before initializing another..."
            ],
            "text/plain": [
              "<IPython.core.display.HTML object>"
            ]
          },
          "metadata": {},
          "output_type": "display_data"
        },
        {
          "data": {
            "text/html": [
              "Waiting for W&B process to finish... <strong style=\"color:green\">(success).</strong>"
            ],
            "text/plain": [
              "<IPython.core.display.HTML object>"
            ]
          },
          "metadata": {},
          "output_type": "display_data"
        },
        {
          "data": {
            "text/html": [
              "Synced <strong style=\"color:#cdcd00\">stilted-voice-5</strong>: <a href=\"https://wandb.ai/jjceamoran/uncategorized/runs/123mbzuj\" target=\"_blank\">https://wandb.ai/jjceamoran/uncategorized/runs/123mbzuj</a><br/>Synced 5 W&B file(s), 0 media file(s), 0 artifact file(s) and 0 other file(s)"
            ],
            "text/plain": [
              "<IPython.core.display.HTML object>"
            ]
          },
          "metadata": {},
          "output_type": "display_data"
        },
        {
          "data": {
            "text/html": [
              "Find logs at: <code>./wandb/run-20221221_232728-123mbzuj/logs</code>"
            ],
            "text/plain": [
              "<IPython.core.display.HTML object>"
            ]
          },
          "metadata": {},
          "output_type": "display_data"
        },
        {
          "data": {
            "text/html": [
              "Successfully finished last run (ID:123mbzuj). Initializing new run:<br/>"
            ],
            "text/plain": [
              "<IPython.core.display.HTML object>"
            ]
          },
          "metadata": {},
          "output_type": "display_data"
        },
        {
          "data": {
            "text/html": [
              "Tracking run with wandb version 0.13.7"
            ],
            "text/plain": [
              "<IPython.core.display.HTML object>"
            ]
          },
          "metadata": {},
          "output_type": "display_data"
        },
        {
          "data": {
            "text/html": [
              "Run data is saved locally in <code>/content/wandb/run-20221221_232801-20c2pob0</code>"
            ],
            "text/plain": [
              "<IPython.core.display.HTML object>"
            ]
          },
          "metadata": {},
          "output_type": "display_data"
        },
        {
          "data": {
            "text/html": [
              "Syncing run <strong><a href=\"https://wandb.ai/jjceamoran/fine-tuning-mlms/runs/20c2pob0\" target=\"_blank\">adaptative_and_behavioural_training</a></strong> to <a href=\"https://wandb.ai/jjceamoran/fine-tuning-mlms\" target=\"_blank\">Weights & Biases</a> (<a href=\"https://wandb.me/run\" target=\"_blank\">docs</a>)<br/>"
            ],
            "text/plain": [
              "<IPython.core.display.HTML object>"
            ]
          },
          "metadata": {},
          "output_type": "display_data"
        }
      ],
      "source": [
        "run_name = 'adaptative_and_behavioural_training'\n",
        "notes = \"This experiment consists on a full head + backbone training on the objective task. We will use a domain-adapted backbone.\"\n",
        "run = wandb.init(project='fine-tuning-mlms',\n",
        "           name=run_name,\n",
        "           notes=notes,\n",
        "           job_type='train')\n"
      ]
    },
    {
      "cell_type": "code",
      "execution_count": 9,
      "metadata": {
        "id": "pyLIBCZ2GdWh"
      },
      "outputs": [],
      "source": [
        "from transformers import Trainer, TrainingArguments\n",
        "from training_aux import compute_metrics\n",
        "import sklearn\n",
        "\n",
        "training_args = TrainingArguments(\n",
        "    output_dir=\"./experiments/\" + run_name,\n",
        "    learning_rate=3e-5, # low learning rate.\n",
        "    per_device_train_batch_size=8,\n",
        "    per_device_eval_batch_size=8,\n",
        "    num_train_epochs=5,\n",
        "    weight_decay=0.01,\n",
        "    evaluation_strategy=\"epoch\",\n",
        "    save_strategy=\"epoch\",\n",
        "    load_best_model_at_end=True,\n",
        "    report_to='wandb',\n",
        "    run_name=run_name\n",
        ")\n",
        "\n",
        "trainer = Trainer(\n",
        "    model=model,\n",
        "    args=training_args,\n",
        "    train_dataset=data['train'],\n",
        "    eval_dataset=data['test'],\n",
        "    tokenizer=tokenizer,\n",
        "    data_collator=data_collator,\n",
        "    compute_metrics=compute_metrics\n",
        ")"
      ]
    },
    {
      "cell_type": "code",
      "execution_count": 10,
      "metadata": {
        "colab": {
          "base_uri": "https://localhost:8080/",
          "height": 1000
        },
        "id": "YWHOLli0GdWi",
        "outputId": "99962b65-657a-443a-8cc7-81476f583d97"
      },
      "outputs": [
        {
          "name": "stderr",
          "output_type": "stream",
          "text": [
            "The following columns in the training set don't have a corresponding argument in `BertForSequenceClassification.forward` and have been ignored: question_2, question_1, dr_id. If question_2, question_1, dr_id are not expected by `BertForSequenceClassification.forward`,  you can safely ignore this message.\n",
            "/usr/local/lib/python3.8/dist-packages/transformers/optimization.py:306: FutureWarning: This implementation of AdamW is deprecated and will be removed in a future version. Use the PyTorch implementation torch.optim.AdamW instead, or set `no_deprecation_warning=True` to disable this warning\n",
            "  warnings.warn(\n",
            "***** Running training *****\n",
            "  Num examples = 2834\n",
            "  Num Epochs = 5\n",
            "  Instantaneous batch size per device = 8\n",
            "  Total train batch size (w. parallel, distributed & accumulation) = 8\n",
            "  Gradient Accumulation steps = 1\n",
            "  Total optimization steps = 1775\n",
            "  Number of trainable parameters = 108311810\n",
            "Automatic Weights & Biases logging enabled, to disable set os.environ[\"WANDB_DISABLED\"] = \"true\"\n",
            "You're using a BertTokenizerFast tokenizer. Please note that with a fast tokenizer, using the `__call__` method is faster than using a method to encode the text followed by a call to the `pad` method to get a padded encoding.\n"
          ]
        },
        {
          "data": {
            "text/html": [
              "\n",
              "    <div>\n",
              "      \n",
              "      <progress value='1775' max='1775' style='width:300px; height:20px; vertical-align: middle;'></progress>\n",
              "      [1775/1775 21:43, Epoch 5/5]\n",
              "    </div>\n",
              "    <table border=\"1\" class=\"dataframe\">\n",
              "  <thead>\n",
              " <tr style=\"text-align: left;\">\n",
              "      <th>Epoch</th>\n",
              "      <th>Training Loss</th>\n",
              "      <th>Validation Loss</th>\n",
              "      <th>Accuracy</th>\n",
              "    </tr>\n",
              "  </thead>\n",
              "  <tbody>\n",
              "    <tr>\n",
              "      <td>1</td>\n",
              "      <td>No log</td>\n",
              "      <td>0.476078</td>\n",
              "      <td>0.799065</td>\n",
              "    </tr>\n",
              "    <tr>\n",
              "      <td>2</td>\n",
              "      <td>0.450400</td>\n",
              "      <td>0.686071</td>\n",
              "      <td>0.789720</td>\n",
              "    </tr>\n",
              "    <tr>\n",
              "      <td>3</td>\n",
              "      <td>0.195000</td>\n",
              "      <td>0.886721</td>\n",
              "      <td>0.803738</td>\n",
              "    </tr>\n",
              "    <tr>\n",
              "      <td>4</td>\n",
              "      <td>0.195000</td>\n",
              "      <td>0.871546</td>\n",
              "      <td>0.836449</td>\n",
              "    </tr>\n",
              "    <tr>\n",
              "      <td>5</td>\n",
              "      <td>0.068800</td>\n",
              "      <td>0.898074</td>\n",
              "      <td>0.836449</td>\n",
              "    </tr>\n",
              "  </tbody>\n",
              "</table><p>"
            ],
            "text/plain": [
              "<IPython.core.display.HTML object>"
            ]
          },
          "metadata": {},
          "output_type": "display_data"
        },
        {
          "name": "stderr",
          "output_type": "stream",
          "text": [
            "The following columns in the evaluation set don't have a corresponding argument in `BertForSequenceClassification.forward` and have been ignored: question_2, question_1, dr_id. If question_2, question_1, dr_id are not expected by `BertForSequenceClassification.forward`,  you can safely ignore this message.\n",
            "***** Running Evaluation *****\n",
            "  Num examples = 214\n",
            "  Batch size = 8\n",
            "Saving model checkpoint to ./experiments/adaptative_and_behavioural_training/checkpoint-355\n",
            "Configuration saved in ./experiments/adaptative_and_behavioural_training/checkpoint-355/config.json\n",
            "Model weights saved in ./experiments/adaptative_and_behavioural_training/checkpoint-355/pytorch_model.bin\n",
            "tokenizer config file saved in ./experiments/adaptative_and_behavioural_training/checkpoint-355/tokenizer_config.json\n",
            "Special tokens file saved in ./experiments/adaptative_and_behavioural_training/checkpoint-355/special_tokens_map.json\n",
            "The following columns in the evaluation set don't have a corresponding argument in `BertForSequenceClassification.forward` and have been ignored: question_2, question_1, dr_id. If question_2, question_1, dr_id are not expected by `BertForSequenceClassification.forward`,  you can safely ignore this message.\n",
            "***** Running Evaluation *****\n",
            "  Num examples = 214\n",
            "  Batch size = 8\n",
            "Saving model checkpoint to ./experiments/adaptative_and_behavioural_training/checkpoint-710\n",
            "Configuration saved in ./experiments/adaptative_and_behavioural_training/checkpoint-710/config.json\n",
            "Model weights saved in ./experiments/adaptative_and_behavioural_training/checkpoint-710/pytorch_model.bin\n",
            "tokenizer config file saved in ./experiments/adaptative_and_behavioural_training/checkpoint-710/tokenizer_config.json\n",
            "Special tokens file saved in ./experiments/adaptative_and_behavioural_training/checkpoint-710/special_tokens_map.json\n",
            "The following columns in the evaluation set don't have a corresponding argument in `BertForSequenceClassification.forward` and have been ignored: question_2, question_1, dr_id. If question_2, question_1, dr_id are not expected by `BertForSequenceClassification.forward`,  you can safely ignore this message.\n",
            "***** Running Evaluation *****\n",
            "  Num examples = 214\n",
            "  Batch size = 8\n",
            "Saving model checkpoint to ./experiments/adaptative_and_behavioural_training/checkpoint-1065\n",
            "Configuration saved in ./experiments/adaptative_and_behavioural_training/checkpoint-1065/config.json\n",
            "Model weights saved in ./experiments/adaptative_and_behavioural_training/checkpoint-1065/pytorch_model.bin\n",
            "tokenizer config file saved in ./experiments/adaptative_and_behavioural_training/checkpoint-1065/tokenizer_config.json\n",
            "Special tokens file saved in ./experiments/adaptative_and_behavioural_training/checkpoint-1065/special_tokens_map.json\n",
            "The following columns in the evaluation set don't have a corresponding argument in `BertForSequenceClassification.forward` and have been ignored: question_2, question_1, dr_id. If question_2, question_1, dr_id are not expected by `BertForSequenceClassification.forward`,  you can safely ignore this message.\n",
            "***** Running Evaluation *****\n",
            "  Num examples = 214\n",
            "  Batch size = 8\n",
            "Saving model checkpoint to ./experiments/adaptative_and_behavioural_training/checkpoint-1420\n",
            "Configuration saved in ./experiments/adaptative_and_behavioural_training/checkpoint-1420/config.json\n",
            "Model weights saved in ./experiments/adaptative_and_behavioural_training/checkpoint-1420/pytorch_model.bin\n",
            "tokenizer config file saved in ./experiments/adaptative_and_behavioural_training/checkpoint-1420/tokenizer_config.json\n",
            "Special tokens file saved in ./experiments/adaptative_and_behavioural_training/checkpoint-1420/special_tokens_map.json\n",
            "The following columns in the evaluation set don't have a corresponding argument in `BertForSequenceClassification.forward` and have been ignored: question_2, question_1, dr_id. If question_2, question_1, dr_id are not expected by `BertForSequenceClassification.forward`,  you can safely ignore this message.\n",
            "***** Running Evaluation *****\n",
            "  Num examples = 214\n",
            "  Batch size = 8\n",
            "Saving model checkpoint to ./experiments/adaptative_and_behavioural_training/checkpoint-1775\n",
            "Configuration saved in ./experiments/adaptative_and_behavioural_training/checkpoint-1775/config.json\n",
            "Model weights saved in ./experiments/adaptative_and_behavioural_training/checkpoint-1775/pytorch_model.bin\n",
            "tokenizer config file saved in ./experiments/adaptative_and_behavioural_training/checkpoint-1775/tokenizer_config.json\n",
            "Special tokens file saved in ./experiments/adaptative_and_behavioural_training/checkpoint-1775/special_tokens_map.json\n",
            "\n",
            "\n",
            "Training completed. Do not forget to share your model on huggingface.co/models =)\n",
            "\n",
            "\n",
            "Loading best model from ./experiments/adaptative_and_behavioural_training/checkpoint-355 (score: 0.47607800364494324).\n"
          ]
        },
        {
          "data": {
            "text/plain": [
              "TrainOutput(global_step=1775, training_loss=0.20431049642428545, metrics={'train_runtime': 1305.0063, 'train_samples_per_second': 10.858, 'train_steps_per_second': 1.36, 'total_flos': 3728283654451200.0, 'train_loss': 0.20431049642428545, 'epoch': 5.0})"
            ]
          },
          "execution_count": 10,
          "metadata": {},
          "output_type": "execute_result"
        }
      ],
      "source": [
        "trainer.train()"
      ]
    },
    {
      "cell_type": "code",
      "execution_count": 11,
      "metadata": {
        "colab": {
          "base_uri": "https://localhost:8080/"
        },
        "id": "-QaJ4zaM600l",
        "outputId": "f001ea8a-fc7e-4c76-b5b1-a4b27dc9140d"
      },
      "outputs": [
        {
          "name": "stderr",
          "output_type": "stream",
          "text": [
            "\u001b[34m\u001b[1mwandb\u001b[0m: Adding directory to artifact (./experiments/adaptative_and_behavioural_training/checkpoint-1775)... Done. 6.7s\n"
          ]
        },
        {
          "data": {
            "text/plain": [
              "<wandb.sdk.wandb_artifacts.Artifact at 0x7f968d5fb370>"
            ]
          },
          "execution_count": 11,
          "metadata": {},
          "output_type": "execute_result"
        }
      ],
      "source": [
        "# Log model\n",
        "\n",
        "artifact = wandb.Artifact('classifier', type='model')\n",
        "artifact.add_dir('./experiments/adaptative_and_behavioural_training/checkpoint-1775')\n",
        "wandb.log_artifact(artifact)"
      ]
    }
  ],
  "metadata": {
    "accelerator": "GPU",
    "colab": {
      "collapsed_sections": [
        "uTBjjMWpGdWb"
      ],
      "provenance": []
    },
    "gpuClass": "standard",
    "kernelspec": {
      "display_name": "projects",
      "language": "python",
      "name": "python3"
    },
    "language_info": {
      "codemirror_mode": {
        "name": "ipython",
        "version": 3
      },
      "file_extension": ".py",
      "mimetype": "text/x-python",
      "name": "python",
      "nbconvert_exporter": "python",
      "pygments_lexer": "ipython3",
      "version": "3.10.8 | packaged by conda-forge | (main, Nov 24 2022, 14:07:00) [MSC v.1916 64 bit (AMD64)]"
    },
    "orig_nbformat": 4,
    "vscode": {
      "interpreter": {
        "hash": "99001e2704ac6f7d0e01cf3f3c65c4a3c3569f1fa86956f5c9ed2a5b3d759ab2"
      }
    },
    "widgets": {
      "application/vnd.jupyter.widget-state+json": {
        "04cf26a7dd76461d831d7c2b915bebcb": {
          "model_module": "@jupyter-widgets/controls",
          "model_module_version": "1.5.0",
          "model_name": "HTMLModel",
          "state": {
            "_dom_classes": [],
            "_model_module": "@jupyter-widgets/controls",
            "_model_module_version": "1.5.0",
            "_model_name": "HTMLModel",
            "_view_count": null,
            "_view_module": "@jupyter-widgets/controls",
            "_view_module_version": "1.5.0",
            "_view_name": "HTMLView",
            "description": "",
            "description_tooltip": null,
            "layout": "IPY_MODEL_7b9854d5e22343e687b0b7b0f8442d9a",
            "placeholder": "​",
            "style": "IPY_MODEL_644883f4ffa7424cb219fbfb6f6852b6",
            "value": "100%"
          }
        },
        "1fd0757aeda747c9a5c97aa1bc2d558a": {
          "model_module": "@jupyter-widgets/base",
          "model_module_version": "1.2.0",
          "model_name": "LayoutModel",
          "state": {
            "_model_module": "@jupyter-widgets/base",
            "_model_module_version": "1.2.0",
            "_model_name": "LayoutModel",
            "_view_count": null,
            "_view_module": "@jupyter-widgets/base",
            "_view_module_version": "1.2.0",
            "_view_name": "LayoutView",
            "align_content": null,
            "align_items": null,
            "align_self": null,
            "border": null,
            "bottom": null,
            "display": null,
            "flex": null,
            "flex_flow": null,
            "grid_area": null,
            "grid_auto_columns": null,
            "grid_auto_flow": null,
            "grid_auto_rows": null,
            "grid_column": null,
            "grid_gap": null,
            "grid_row": null,
            "grid_template_areas": null,
            "grid_template_columns": null,
            "grid_template_rows": null,
            "height": null,
            "justify_content": null,
            "justify_items": null,
            "left": null,
            "margin": null,
            "max_height": null,
            "max_width": null,
            "min_height": null,
            "min_width": null,
            "object_fit": null,
            "object_position": null,
            "order": null,
            "overflow": null,
            "overflow_x": null,
            "overflow_y": null,
            "padding": null,
            "right": null,
            "top": null,
            "visibility": null,
            "width": null
          }
        },
        "215fd17b454f46bbb5f9844f23a1cd6e": {
          "model_module": "@jupyter-widgets/controls",
          "model_module_version": "1.5.0",
          "model_name": "HBoxModel",
          "state": {
            "_dom_classes": [],
            "_model_module": "@jupyter-widgets/controls",
            "_model_module_version": "1.5.0",
            "_model_name": "HBoxModel",
            "_view_count": null,
            "_view_module": "@jupyter-widgets/controls",
            "_view_module_version": "1.5.0",
            "_view_name": "HBoxView",
            "box_style": "",
            "children": [
              "IPY_MODEL_04cf26a7dd76461d831d7c2b915bebcb",
              "IPY_MODEL_cf0b8003a59e47f9ad19000f3f847c6c",
              "IPY_MODEL_7c72959e863f4c0d9830f0604a68a5b2"
            ],
            "layout": "IPY_MODEL_6205539c263f41fdae8935f446910618"
          }
        },
        "6205539c263f41fdae8935f446910618": {
          "model_module": "@jupyter-widgets/base",
          "model_module_version": "1.2.0",
          "model_name": "LayoutModel",
          "state": {
            "_model_module": "@jupyter-widgets/base",
            "_model_module_version": "1.2.0",
            "_model_name": "LayoutModel",
            "_view_count": null,
            "_view_module": "@jupyter-widgets/base",
            "_view_module_version": "1.2.0",
            "_view_name": "LayoutView",
            "align_content": null,
            "align_items": null,
            "align_self": null,
            "border": null,
            "bottom": null,
            "display": null,
            "flex": null,
            "flex_flow": null,
            "grid_area": null,
            "grid_auto_columns": null,
            "grid_auto_flow": null,
            "grid_auto_rows": null,
            "grid_column": null,
            "grid_gap": null,
            "grid_row": null,
            "grid_template_areas": null,
            "grid_template_columns": null,
            "grid_template_rows": null,
            "height": null,
            "justify_content": null,
            "justify_items": null,
            "left": null,
            "margin": null,
            "max_height": null,
            "max_width": null,
            "min_height": null,
            "min_width": null,
            "object_fit": null,
            "object_position": null,
            "order": null,
            "overflow": null,
            "overflow_x": null,
            "overflow_y": null,
            "padding": null,
            "right": null,
            "top": null,
            "visibility": null,
            "width": null
          }
        },
        "644883f4ffa7424cb219fbfb6f6852b6": {
          "model_module": "@jupyter-widgets/controls",
          "model_module_version": "1.5.0",
          "model_name": "DescriptionStyleModel",
          "state": {
            "_model_module": "@jupyter-widgets/controls",
            "_model_module_version": "1.5.0",
            "_model_name": "DescriptionStyleModel",
            "_view_count": null,
            "_view_module": "@jupyter-widgets/base",
            "_view_module_version": "1.2.0",
            "_view_name": "StyleView",
            "description_width": ""
          }
        },
        "645aadd3b84a49d591542ab64a93639c": {
          "model_module": "@jupyter-widgets/controls",
          "model_module_version": "1.5.0",
          "model_name": "ProgressStyleModel",
          "state": {
            "_model_module": "@jupyter-widgets/controls",
            "_model_module_version": "1.5.0",
            "_model_name": "ProgressStyleModel",
            "_view_count": null,
            "_view_module": "@jupyter-widgets/base",
            "_view_module_version": "1.2.0",
            "_view_name": "StyleView",
            "bar_color": null,
            "description_width": ""
          }
        },
        "7b9854d5e22343e687b0b7b0f8442d9a": {
          "model_module": "@jupyter-widgets/base",
          "model_module_version": "1.2.0",
          "model_name": "LayoutModel",
          "state": {
            "_model_module": "@jupyter-widgets/base",
            "_model_module_version": "1.2.0",
            "_model_name": "LayoutModel",
            "_view_count": null,
            "_view_module": "@jupyter-widgets/base",
            "_view_module_version": "1.2.0",
            "_view_name": "LayoutView",
            "align_content": null,
            "align_items": null,
            "align_self": null,
            "border": null,
            "bottom": null,
            "display": null,
            "flex": null,
            "flex_flow": null,
            "grid_area": null,
            "grid_auto_columns": null,
            "grid_auto_flow": null,
            "grid_auto_rows": null,
            "grid_column": null,
            "grid_gap": null,
            "grid_row": null,
            "grid_template_areas": null,
            "grid_template_columns": null,
            "grid_template_rows": null,
            "height": null,
            "justify_content": null,
            "justify_items": null,
            "left": null,
            "margin": null,
            "max_height": null,
            "max_width": null,
            "min_height": null,
            "min_width": null,
            "object_fit": null,
            "object_position": null,
            "order": null,
            "overflow": null,
            "overflow_x": null,
            "overflow_y": null,
            "padding": null,
            "right": null,
            "top": null,
            "visibility": null,
            "width": null
          }
        },
        "7c72959e863f4c0d9830f0604a68a5b2": {
          "model_module": "@jupyter-widgets/controls",
          "model_module_version": "1.5.0",
          "model_name": "HTMLModel",
          "state": {
            "_dom_classes": [],
            "_model_module": "@jupyter-widgets/controls",
            "_model_module_version": "1.5.0",
            "_model_name": "HTMLModel",
            "_view_count": null,
            "_view_module": "@jupyter-widgets/controls",
            "_view_module_version": "1.5.0",
            "_view_name": "HTMLView",
            "description": "",
            "description_tooltip": null,
            "layout": "IPY_MODEL_d52b2ebac7f34a48879f52c192c17317",
            "placeholder": "​",
            "style": "IPY_MODEL_da92bfb065734552b89d39259be02977",
            "value": " 1/1 [00:00&lt;00:00, 35.11it/s]"
          }
        },
        "cf0b8003a59e47f9ad19000f3f847c6c": {
          "model_module": "@jupyter-widgets/controls",
          "model_module_version": "1.5.0",
          "model_name": "FloatProgressModel",
          "state": {
            "_dom_classes": [],
            "_model_module": "@jupyter-widgets/controls",
            "_model_module_version": "1.5.0",
            "_model_name": "FloatProgressModel",
            "_view_count": null,
            "_view_module": "@jupyter-widgets/controls",
            "_view_module_version": "1.5.0",
            "_view_name": "ProgressView",
            "bar_style": "success",
            "description": "",
            "description_tooltip": null,
            "layout": "IPY_MODEL_1fd0757aeda747c9a5c97aa1bc2d558a",
            "max": 1,
            "min": 0,
            "orientation": "horizontal",
            "style": "IPY_MODEL_645aadd3b84a49d591542ab64a93639c",
            "value": 1
          }
        },
        "d52b2ebac7f34a48879f52c192c17317": {
          "model_module": "@jupyter-widgets/base",
          "model_module_version": "1.2.0",
          "model_name": "LayoutModel",
          "state": {
            "_model_module": "@jupyter-widgets/base",
            "_model_module_version": "1.2.0",
            "_model_name": "LayoutModel",
            "_view_count": null,
            "_view_module": "@jupyter-widgets/base",
            "_view_module_version": "1.2.0",
            "_view_name": "LayoutView",
            "align_content": null,
            "align_items": null,
            "align_self": null,
            "border": null,
            "bottom": null,
            "display": null,
            "flex": null,
            "flex_flow": null,
            "grid_area": null,
            "grid_auto_columns": null,
            "grid_auto_flow": null,
            "grid_auto_rows": null,
            "grid_column": null,
            "grid_gap": null,
            "grid_row": null,
            "grid_template_areas": null,
            "grid_template_columns": null,
            "grid_template_rows": null,
            "height": null,
            "justify_content": null,
            "justify_items": null,
            "left": null,
            "margin": null,
            "max_height": null,
            "max_width": null,
            "min_height": null,
            "min_width": null,
            "object_fit": null,
            "object_position": null,
            "order": null,
            "overflow": null,
            "overflow_x": null,
            "overflow_y": null,
            "padding": null,
            "right": null,
            "top": null,
            "visibility": null,
            "width": null
          }
        },
        "da92bfb065734552b89d39259be02977": {
          "model_module": "@jupyter-widgets/controls",
          "model_module_version": "1.5.0",
          "model_name": "DescriptionStyleModel",
          "state": {
            "_model_module": "@jupyter-widgets/controls",
            "_model_module_version": "1.5.0",
            "_model_name": "DescriptionStyleModel",
            "_view_count": null,
            "_view_module": "@jupyter-widgets/base",
            "_view_module_version": "1.2.0",
            "_view_name": "StyleView",
            "description_width": ""
          }
        }
      }
    }
  },
  "nbformat": 4,
  "nbformat_minor": 0
}
