{
 "cells": [
  {
   "attachments": {},
   "cell_type": "markdown",
   "metadata": {},
   "source": [
    "# Fine-tuning MLMs 🤖⚙️\n",
    "\n",
    "This brief research is intended to explore the different fine-tuning approaches that can be applied for adapting bert-like MLMs to a custom domain datasets.\n",
    "\n",
    "Important points:\n",
    "* Dataset: [medical_questions_pairs](https://huggingface.co/datasets/medical_questions_pairs)\n",
    "* Model: [bert-base-cased](https://huggingface.co/bert-base-cased)\n",
    "* We will define auxiliar functions in auxiliar.py file\n",
    "* We will be logging the results in Weight&Biases.\n",
    "<br>\n",
    "\n",
    "<figure>\n",
    "  <img src=\"../data/images/adaptive_fine-tuning.png\">\n",
    "  \n",
    "  <figcaption style='text-align:center';>\n",
    "  Framework for fine-tuning LMs. \n",
    "  <a href=\"https://ruder.io/recent-advances-lm-fine-tuning/\">Sebastian Rude's post</a>\n",
    "  </figcaption>\n",
    "</figure>"
   ]
  },
  {
   "cell_type": "code",
   "execution_count": 1,
   "metadata": {},
   "outputs": [
    {
     "name": "stderr",
     "output_type": "stream",
     "text": [
      "c:\\Users\\Juanju\\anaconda3\\envs\\projects\\lib\\site-packages\\tqdm\\auto.py:22: TqdmWarning: IProgress not found. Please update jupyter and ipywidgets. See https://ipywidgets.readthedocs.io/en/stable/user_install.html\n",
      "  from .autonotebook import tqdm as notebook_tqdm\n"
     ]
    }
   ],
   "source": [
    "import torch\n",
    "import config\n",
    "\n",
    "if torch.cuda.is_available():\n",
    "   device = torch.device(\"cuda:0\")\n",
    "else:\n",
    "    device = torch.device(\"cpu\")"
   ]
  },
  {
   "cell_type": "code",
   "execution_count": 2,
   "metadata": {},
   "outputs": [
    {
     "data": {
      "text/plain": [
       "device(type='cuda', index=0)"
      ]
     },
     "execution_count": 2,
     "metadata": {},
     "output_type": "execute_result"
    }
   ],
   "source": [
    "device"
   ]
  },
  {
   "attachments": {},
   "cell_type": "markdown",
   "metadata": {},
   "source": [
    "## 1. Data preparation"
   ]
  },
  {
   "attachments": {},
   "cell_type": "markdown",
   "metadata": {},
   "source": [
    "### 1.1. Import and set creation\n",
    "\n",
    "Import data and create partitions."
   ]
  },
  {
   "cell_type": "code",
   "execution_count": 6,
   "metadata": {},
   "outputs": [
    {
     "name": "stderr",
     "output_type": "stream",
     "text": [
      "Found cached dataset medical_questions_pairs (C:/Users/Juanju/.cache/huggingface/datasets/medical_questions_pairs/default/0.0.0/db30a35b934dceb7abed5ef6b73a432bb59682d00e26f9a1acd960635333bc80)\n",
      "100%|██████████| 1/1 [00:00<00:00, 167.09it/s]\n",
      "Loading cached split indices for dataset at C:\\Users\\Juanju\\.cache\\huggingface\\datasets\\medical_questions_pairs\\default\\0.0.0\\db30a35b934dceb7abed5ef6b73a432bb59682d00e26f9a1acd960635333bc80\\cache-3a6913e31ee3f147.arrow and C:\\Users\\Juanju\\.cache\\huggingface\\datasets\\medical_questions_pairs\\default\\0.0.0\\db30a35b934dceb7abed5ef6b73a432bb59682d00e26f9a1acd960635333bc80\\cache-55366722f45172c0.arrow\n"
     ]
    }
   ],
   "source": [
    "from datasets import load_dataset\n",
    "\n",
    "# Download and extract data\n",
    "data = load_dataset(\"medical_questions_pairs\")\n",
    "data = data['train']\n",
    "\n",
    "# Split it\n",
    "data = data.train_test_split(test_size=0.07, seed=config.SEED)"
   ]
  },
  {
   "cell_type": "code",
   "execution_count": 8,
   "metadata": {},
   "outputs": [
    {
     "data": {
      "text/plain": [
       "DatasetDict({\n",
       "    train: Dataset({\n",
       "        features: ['dr_id', 'question_1', 'question_2', 'label'],\n",
       "        num_rows: 2834\n",
       "    })\n",
       "    test: Dataset({\n",
       "        features: ['dr_id', 'question_1', 'question_2', 'label'],\n",
       "        num_rows: 214\n",
       "    })\n",
       "})"
      ]
     },
     "execution_count": 8,
     "metadata": {},
     "output_type": "execute_result"
    }
   ],
   "source": [
    "data"
   ]
  },
  {
   "attachments": {},
   "cell_type": "markdown",
   "metadata": {},
   "source": [
    "As we can see, there is not that much ammount of samples. We will have to take that into consideration when training the models."
   ]
  },
  {
   "attachments": {},
   "cell_type": "markdown",
   "metadata": {},
   "source": [
    "### 1.2. Tokenize and encode data\n",
    "\n",
    "As mentioned, we will use **bert-base-cased** tokenizer"
   ]
  },
  {
   "cell_type": "code",
   "execution_count": 7,
   "metadata": {},
   "outputs": [],
   "source": [
    "from transformers import AutoTokenizer\n",
    "\n",
    "tokenizer = AutoTokenizer.from_pretrained(config.checkpoint, use_fast=True)"
   ]
  },
  {
   "cell_type": "code",
   "execution_count": 9,
   "metadata": {},
   "outputs": [
    {
     "name": "stderr",
     "output_type": "stream",
     "text": [
      "Loading cached processed dataset at C:\\Users\\Juanju\\.cache\\huggingface\\datasets\\medical_questions_pairs\\default\\0.0.0\\db30a35b934dceb7abed5ef6b73a432bb59682d00e26f9a1acd960635333bc80\\cache-e4dd26900600fbe0.arrow\n",
      "100%|██████████| 1/1 [00:00<00:00,  6.87ba/s]\n"
     ]
    }
   ],
   "source": [
    "data = data.map(lambda x: tokenizer(x['question_1'], x['question_1'], truncation=True, padding='max_length'), batched=True)"
   ]
  },
  {
   "cell_type": "code",
   "execution_count": 10,
   "metadata": {},
   "outputs": [],
   "source": [
    "from transformers import DataCollatorWithPadding\n",
    "\n",
    "data_collator = DataCollatorWithPadding(tokenizer=tokenizer)"
   ]
  },
  {
   "attachments": {},
   "cell_type": "markdown",
   "metadata": {},
   "source": [
    "## 2. Exp 1: Baseline model training\n",
    "\n",
    "Our first experiment consists on a basic training without any fine-tuning. We will freeze all parameters from the base model and just train the las FC layer. "
   ]
  },
  {
   "cell_type": "code",
   "execution_count": 11,
   "metadata": {},
   "outputs": [
    {
     "name": "stderr",
     "output_type": "stream",
     "text": [
      "Some weights of the model checkpoint at bert-base-cased were not used when initializing BertForSequenceClassification: ['cls.predictions.transform.dense.bias', 'cls.seq_relationship.bias', 'cls.predictions.transform.LayerNorm.bias', 'cls.predictions.bias', 'cls.predictions.transform.dense.weight', 'cls.predictions.transform.LayerNorm.weight', 'cls.seq_relationship.weight', 'cls.predictions.decoder.weight']\n",
      "- This IS expected if you are initializing BertForSequenceClassification from the checkpoint of a model trained on another task or with another architecture (e.g. initializing a BertForSequenceClassification model from a BertForPreTraining model).\n",
      "- This IS NOT expected if you are initializing BertForSequenceClassification from the checkpoint of a model that you expect to be exactly identical (initializing a BertForSequenceClassification model from a BertForSequenceClassification model).\n",
      "Some weights of BertForSequenceClassification were not initialized from the model checkpoint at bert-base-cased and are newly initialized: ['classifier.weight', 'classifier.bias']\n",
      "You should probably TRAIN this model on a down-stream task to be able to use it for predictions and inference.\n"
     ]
    }
   ],
   "source": [
    "from transformers import AutoModelForSequenceClassification\n",
    "\n",
    "model = AutoModelForSequenceClassification.from_pretrained(config.checkpoint, num_labels=2)\n",
    "\n",
    "# freeze all params\n",
    "for param in model.bert.parameters():\n",
    "    param.requires_grad = False"
   ]
  },
  {
   "attachments": {},
   "cell_type": "markdown",
   "metadata": {},
   "source": [
    "### 2.1. Init WandB"
   ]
  },
  {
   "cell_type": "code",
   "execution_count": 12,
   "metadata": {},
   "outputs": [
    {
     "name": "stderr",
     "output_type": "stream",
     "text": [
      "Failed to detect the name of this notebook, you can set it manually with the WANDB_NOTEBOOK_NAME environment variable to enable code saving.\n",
      "\u001b[34m\u001b[1mwandb\u001b[0m: Currently logged in as: \u001b[33mjjceamoran\u001b[0m. Use \u001b[1m`wandb login --relogin`\u001b[0m to force relogin\n"
     ]
    },
    {
     "data": {
      "text/plain": [
       "True"
      ]
     },
     "execution_count": 12,
     "metadata": {},
     "output_type": "execute_result"
    }
   ],
   "source": [
    "import wandb\n",
    "\n",
    "wandb.login()"
   ]
  },
  {
   "cell_type": "code",
   "execution_count": 13,
   "metadata": {},
   "outputs": [
    {
     "data": {
      "text/html": [
       "Tracking run with wandb version 0.13.7"
      ],
      "text/plain": [
       "<IPython.core.display.HTML object>"
      ]
     },
     "metadata": {},
     "output_type": "display_data"
    },
    {
     "data": {
      "text/html": [
       "Run data is saved locally in <code>c:\\Users\\Juanju\\Desktop\\Projects\\finetuning-mlms\\notebooks\\wandb\\run-20221219_200915-17j4inqp</code>"
      ],
      "text/plain": [
       "<IPython.core.display.HTML object>"
      ]
     },
     "metadata": {},
     "output_type": "display_data"
    },
    {
     "data": {
      "text/html": [
       "Syncing run <strong><a href=\"https://wandb.ai/jjceamoran/fine-tuning-mlms/runs/17j4inqp\" target=\"_blank\">baseline_training</a></strong> to <a href=\"https://wandb.ai/jjceamoran/fine-tuning-mlms\" target=\"_blank\">Weights & Biases</a> (<a href=\"https://wandb.me/run\" target=\"_blank\">docs</a>)<br/>"
      ],
      "text/plain": [
       "<IPython.core.display.HTML object>"
      ]
     },
     "metadata": {},
     "output_type": "display_data"
    }
   ],
   "source": [
    "run_name = 'baseline_training'\n",
    "notes = \"This experiment consists on a basic bert training with all encoder's layers frozen\"\n",
    "run = wandb.init(project='fine-tuning-mlms',\n",
    "           name=run_name,\n",
    "           notes=notes,\n",
    "           job_type='train')\n"
   ]
  },
  {
   "cell_type": "code",
   "execution_count": 14,
   "metadata": {},
   "outputs": [],
   "source": [
    "from transformers import Trainer, TrainingArguments\n",
    "from training_aux import compute_metrics\n",
    "import sklearn\n",
    "\n",
    "training_args = TrainingArguments(\n",
    "    output_dir=\"./experiments/\" + run_name,\n",
    "    learning_rate=2e-5, # low learning rate.\n",
    "    per_device_train_batch_size=16,\n",
    "    per_device_eval_batch_size=16,\n",
    "    num_train_epochs=5,\n",
    "    weight_decay=0.01,\n",
    "    evaluation_strategy=\"epoch\",\n",
    "    save_strategy=\"epoch\",\n",
    "    load_best_model_at_end=True,\n",
    "    report_to='wandb',\n",
    "    run_name=run_name\n",
    ")\n",
    "\n",
    "trainer = Trainer(\n",
    "    model=model,\n",
    "    args=training_args,\n",
    "    train_dataset=data['train'],\n",
    "    eval_dataset=data['test'],\n",
    "    tokenizer=tokenizer,\n",
    "    data_collator=data_collator,\n",
    "    compute_metrics=compute_metrics\n",
    ")"
   ]
  },
  {
   "cell_type": "code",
   "execution_count": 15,
   "metadata": {},
   "outputs": [
    {
     "name": "stderr",
     "output_type": "stream",
     "text": [
      "The following columns in the training set don't have a corresponding argument in `BertForSequenceClassification.forward` and have been ignored: dr_id, question_1, question_2. If dr_id, question_1, question_2 are not expected by `BertForSequenceClassification.forward`,  you can safely ignore this message.\n",
      "c:\\Users\\Juanju\\anaconda3\\envs\\projects\\lib\\site-packages\\transformers\\optimization.py:306: FutureWarning: This implementation of AdamW is deprecated and will be removed in a future version. Use the PyTorch implementation torch.optim.AdamW instead, or set `no_deprecation_warning=True` to disable this warning\n",
      "  warnings.warn(\n",
      "***** Running training *****\n",
      "  Num examples = 2834\n",
      "  Num Epochs = 5\n",
      "  Instantaneous batch size per device = 16\n",
      "  Total train batch size (w. parallel, distributed & accumulation) = 16\n",
      "  Gradient Accumulation steps = 1\n",
      "  Total optimization steps = 890\n",
      "  Number of trainable parameters = 1538\n",
      "Automatic Weights & Biases logging enabled, to disable set os.environ[\"WANDB_DISABLED\"] = \"true\"\n",
      "  0%|          | 0/890 [00:00<?, ?it/s]You're using a BertTokenizerFast tokenizer. Please note that with a fast tokenizer, using the `__call__` method is faster than using a method to encode the text followed by a call to the `pad` method to get a padded encoding.\n",
      " 20%|██        | 178/890 [06:52<20:42,  1.75s/it]The following columns in the evaluation set don't have a corresponding argument in `BertForSequenceClassification.forward` and have been ignored: dr_id, question_1, question_2. If dr_id, question_1, question_2 are not expected by `BertForSequenceClassification.forward`,  you can safely ignore this message.\n",
      "***** Running Evaluation *****\n",
      "  Num examples = 214\n",
      "  Batch size = 16\n",
      "                                                 \n",
      " 20%|██        | 178/890 [07:24<20:42,  1.75s/it]Saving model checkpoint to ./experiments/baseline_training\\checkpoint-178\n",
      "Configuration saved in ./experiments/baseline_training\\checkpoint-178\\config.json\n"
     ]
    },
    {
     "name": "stdout",
     "output_type": "stream",
     "text": [
      "{'eval_loss': 0.6930452585220337, 'eval_accuracy': 0.53, 'eval_f1': 0, 'eval_runtime': 31.8098, 'eval_samples_per_second': 6.727, 'eval_steps_per_second': 0.44, 'epoch': 1.0}\n"
     ]
    },
    {
     "name": "stderr",
     "output_type": "stream",
     "text": [
      "Model weights saved in ./experiments/baseline_training\\checkpoint-178\\pytorch_model.bin\n",
      "tokenizer config file saved in ./experiments/baseline_training\\checkpoint-178\\tokenizer_config.json\n",
      "Special tokens file saved in ./experiments/baseline_training\\checkpoint-178\\special_tokens_map.json\n",
      " 40%|████      | 356/890 [14:35<14:18,  1.61s/it]  The following columns in the evaluation set don't have a corresponding argument in `BertForSequenceClassification.forward` and have been ignored: dr_id, question_1, question_2. If dr_id, question_1, question_2 are not expected by `BertForSequenceClassification.forward`,  you can safely ignore this message.\n",
      "***** Running Evaluation *****\n",
      "  Num examples = 214\n",
      "  Batch size = 16\n",
      "                                                 \n",
      " 40%|████      | 356/890 [15:03<14:18,  1.61s/it]Saving model checkpoint to ./experiments/baseline_training\\checkpoint-356\n",
      "Configuration saved in ./experiments/baseline_training\\checkpoint-356\\config.json\n"
     ]
    },
    {
     "name": "stdout",
     "output_type": "stream",
     "text": [
      "{'eval_loss': 0.693488597869873, 'eval_accuracy': 0.47, 'eval_f1': 0, 'eval_runtime': 27.9652, 'eval_samples_per_second': 7.652, 'eval_steps_per_second': 0.501, 'epoch': 2.0}\n"
     ]
    },
    {
     "name": "stderr",
     "output_type": "stream",
     "text": [
      "Model weights saved in ./experiments/baseline_training\\checkpoint-356\\pytorch_model.bin\n",
      "tokenizer config file saved in ./experiments/baseline_training\\checkpoint-356\\tokenizer_config.json\n",
      "Special tokens file saved in ./experiments/baseline_training\\checkpoint-356\\special_tokens_map.json\n",
      " 56%|█████▌    | 500/890 [20:18<14:03,  2.16s/it]  "
     ]
    },
    {
     "name": "stdout",
     "output_type": "stream",
     "text": [
      "{'loss': 0.7037, 'learning_rate': 8.764044943820226e-06, 'epoch': 2.81}\n"
     ]
    },
    {
     "name": "stderr",
     "output_type": "stream",
     "text": [
      " 60%|██████    | 534/890 [21:30<09:30,  1.60s/it]The following columns in the evaluation set don't have a corresponding argument in `BertForSequenceClassification.forward` and have been ignored: dr_id, question_1, question_2. If dr_id, question_1, question_2 are not expected by `BertForSequenceClassification.forward`,  you can safely ignore this message.\n",
      "***** Running Evaluation *****\n",
      "  Num examples = 214\n",
      "  Batch size = 16\n",
      "                                                 \n",
      " 60%|██████    | 534/890 [21:57<09:30,  1.60s/it]Saving model checkpoint to ./experiments/baseline_training\\checkpoint-534\n",
      "Configuration saved in ./experiments/baseline_training\\checkpoint-534\\config.json\n"
     ]
    },
    {
     "name": "stdout",
     "output_type": "stream",
     "text": [
      "{'eval_loss': 0.691881537437439, 'eval_accuracy': 0.53, 'eval_f1': 1, 'eval_runtime': 27.8375, 'eval_samples_per_second': 7.687, 'eval_steps_per_second': 0.503, 'epoch': 3.0}\n"
     ]
    },
    {
     "name": "stderr",
     "output_type": "stream",
     "text": [
      "Model weights saved in ./experiments/baseline_training\\checkpoint-534\\pytorch_model.bin\n",
      "tokenizer config file saved in ./experiments/baseline_training\\checkpoint-534\\tokenizer_config.json\n",
      "Special tokens file saved in ./experiments/baseline_training\\checkpoint-534\\special_tokens_map.json\n",
      " 80%|████████  | 712/890 [28:22<04:45,  1.60s/it]  The following columns in the evaluation set don't have a corresponding argument in `BertForSequenceClassification.forward` and have been ignored: dr_id, question_1, question_2. If dr_id, question_1, question_2 are not expected by `BertForSequenceClassification.forward`,  you can safely ignore this message.\n",
      "***** Running Evaluation *****\n",
      "  Num examples = 214\n",
      "  Batch size = 16\n",
      "                                                 \n",
      " 80%|████████  | 712/890 [28:50<04:45,  1.60s/it]Saving model checkpoint to ./experiments/baseline_training\\checkpoint-712\n",
      "Configuration saved in ./experiments/baseline_training\\checkpoint-712\\config.json\n"
     ]
    },
    {
     "name": "stdout",
     "output_type": "stream",
     "text": [
      "{'eval_loss': 0.6938235759735107, 'eval_accuracy': 0.47, 'eval_f1': 0, 'eval_runtime': 28.0162, 'eval_samples_per_second': 7.638, 'eval_steps_per_second': 0.5, 'epoch': 4.0}\n"
     ]
    },
    {
     "name": "stderr",
     "output_type": "stream",
     "text": [
      "Model weights saved in ./experiments/baseline_training\\checkpoint-712\\pytorch_model.bin\n",
      "tokenizer config file saved in ./experiments/baseline_training\\checkpoint-712\\tokenizer_config.json\n",
      "Special tokens file saved in ./experiments/baseline_training\\checkpoint-712\\special_tokens_map.json\n",
      "100%|██████████| 890/890 [35:16<00:00,  1.60s/it]The following columns in the evaluation set don't have a corresponding argument in `BertForSequenceClassification.forward` and have been ignored: dr_id, question_1, question_2. If dr_id, question_1, question_2 are not expected by `BertForSequenceClassification.forward`,  you can safely ignore this message.\n",
      "***** Running Evaluation *****\n",
      "  Num examples = 214\n",
      "  Batch size = 16\n",
      "                                                 \n",
      "100%|██████████| 890/890 [35:43<00:00,  1.60s/it]Saving model checkpoint to ./experiments/baseline_training\\checkpoint-890\n",
      "Configuration saved in ./experiments/baseline_training\\checkpoint-890\\config.json\n"
     ]
    },
    {
     "name": "stdout",
     "output_type": "stream",
     "text": [
      "{'eval_loss': 0.6934771537780762, 'eval_accuracy': 0.47, 'eval_f1': 0, 'eval_runtime': 27.8555, 'eval_samples_per_second': 7.683, 'eval_steps_per_second': 0.503, 'epoch': 5.0}\n"
     ]
    },
    {
     "name": "stderr",
     "output_type": "stream",
     "text": [
      "Model weights saved in ./experiments/baseline_training\\checkpoint-890\\pytorch_model.bin\n",
      "tokenizer config file saved in ./experiments/baseline_training\\checkpoint-890\\tokenizer_config.json\n",
      "Special tokens file saved in ./experiments/baseline_training\\checkpoint-890\\special_tokens_map.json\n",
      "\n",
      "\n",
      "Training completed. Do not forget to share your model on huggingface.co/models =)\n",
      "\n",
      "\n",
      "Loading best model from ./experiments/baseline_training\\checkpoint-534 (score: 0.691881537437439).\n",
      "100%|██████████| 890/890 [35:45<00:00,  2.41s/it]"
     ]
    },
    {
     "name": "stdout",
     "output_type": "stream",
     "text": [
      "{'train_runtime': 2145.446, 'train_samples_per_second': 6.605, 'train_steps_per_second': 0.415, 'train_loss': 0.7028394720527563, 'epoch': 5.0}\n"
     ]
    },
    {
     "name": "stderr",
     "output_type": "stream",
     "text": [
      "\n"
     ]
    },
    {
     "data": {
      "text/plain": [
       "TrainOutput(global_step=890, training_loss=0.7028394720527563, metrics={'train_runtime': 2145.446, 'train_samples_per_second': 6.605, 'train_steps_per_second': 0.415, 'train_loss': 0.7028394720527563, 'epoch': 5.0})"
      ]
     },
     "execution_count": 15,
     "metadata": {},
     "output_type": "execute_result"
    }
   ],
   "source": [
    "trainer.train()"
   ]
  }
 ],
 "metadata": {
  "kernelspec": {
   "display_name": "projects",
   "language": "python",
   "name": "python3"
  },
  "language_info": {
   "codemirror_mode": {
    "name": "ipython",
    "version": 3
   },
   "file_extension": ".py",
   "mimetype": "text/x-python",
   "name": "python",
   "nbconvert_exporter": "python",
   "pygments_lexer": "ipython3",
   "version": "3.10.8"
  },
  "orig_nbformat": 4,
  "vscode": {
   "interpreter": {
    "hash": "99001e2704ac6f7d0e01cf3f3c65c4a3c3569f1fa86956f5c9ed2a5b3d759ab2"
   }
  }
 },
 "nbformat": 4,
 "nbformat_minor": 2
}
