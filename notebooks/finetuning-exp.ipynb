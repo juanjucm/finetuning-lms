{
 "cells": [],
 "metadata": {
  "kernelspec": {
   "display_name": "Python 3",
   "language": "python",
   "name": "python3"
  },
  "language_info": {
   "name": "python",
   "version": "3.8.5 (tags/v3.8.5:580fbb0, Jul 20 2020, 15:43:08) [MSC v.1926 32 bit (Intel)]"
  },
  "orig_nbformat": 4,
  "vscode": {
   "interpreter": {
    "hash": "0681f3280bc8c1775d187dba078ff3e6fc0847a6c1842885bcf8cf88633124bd"
   }
  }
 },
 "nbformat": 4,
 "nbformat_minor": 2
}
