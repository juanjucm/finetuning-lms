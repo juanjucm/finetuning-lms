{
  "cells": [
    {
      "cell_type": "markdown",
      "metadata": {
        "id": "_GqY8kyCGdWL"
      },
      "source": [
        "# Fine-tuning MLMs 🤖⚙️\n",
        "\n",
        "This brief research is intended to explore the different fine-tuning approaches that can be applied for adapting bert-like MLMs to a custom domain datasets.\n",
        "\n",
        "Important points:\n",
        "* Dataset: [medical_questions_pairs](https://huggingface.co/datasets/medical_questions_pairs)\n",
        "* Model: [bert-base-cased](https://huggingface.co/bert-base-cased)\n",
        "* We will define auxiliar functions in auxiliar.py file\n",
        "* We will be logging the results in Weight&Biases.\n",
        "<br>\n",
        "\n",
        "<figure>\n",
        "  <img src=\"../data/images/adaptive_fine-tuning.png\">\n",
        "  \n",
        "  <figcaption style='text-align:center';>\n",
        "  Framework for fine-tuning LMs. \n",
        "  <a href=\"https://ruder.io/recent-advances-lm-fine-tuning/\">Sebastian Rude's post</a>\n",
        "  </figcaption>\n",
        "</figure>"
      ]
    },
    {
      "cell_type": "code",
      "execution_count": 1,
      "metadata": {
        "id": "r1KTC0RxGdWR"
      },
      "outputs": [],
      "source": [
        "import torch\n",
        "import config\n",
        "\n",
        "if torch.cuda.is_available():\n",
        "   device = torch.device(\"cuda:0\")\n",
        "else:\n",
        "    device = torch.device(\"cpu\")"
      ]
    },
    {
      "cell_type": "code",
      "execution_count": 2,
      "metadata": {
        "colab": {
          "base_uri": "https://localhost:8080/"
        },
        "id": "Q1FgMRwhGdWU",
        "outputId": "aa1f9071-7cbd-4109-950b-bc8d862b80b8"
      },
      "outputs": [
        {
          "data": {
            "text/plain": [
              "device(type='cuda', index=0)"
            ]
          },
          "execution_count": 2,
          "metadata": {},
          "output_type": "execute_result"
        }
      ],
      "source": [
        "device"
      ]
    },
    {
      "cell_type": "markdown",
      "metadata": {
        "id": "x0ibsd7DGdWV"
      },
      "source": [
        "## 1. Data preparation"
      ]
    },
    {
      "cell_type": "markdown",
      "metadata": {
        "id": "Dmo09TKBGdWW"
      },
      "source": [
        "### 1.1. Import and set creation\n",
        "\n",
        "Import data and create partitions."
      ]
    },
    {
      "cell_type": "code",
      "execution_count": 2,
      "metadata": {
        "colab": {
          "base_uri": "https://localhost:8080/",
          "height": 104,
          "referenced_widgets": [
            "1be4e234f9ac4ead96f2b64dbfa635ac",
            "80eda690442d48f18bbc8cb7326ef88b",
            "83f3ea3cf8354ddebd121873704be1af",
            "f18c8ea16c5d4dcab77052ea0b61cee1",
            "a435e52cd3ef4c9584353883936918c1",
            "888fbfb8e23c459b98a8031586dfada9",
            "841aaf98e9fe4324b7cb75c59560c808",
            "c7ea433e60b740f0b330615bf8af5171",
            "45e8615464694e078038648e4568c158",
            "a72990f9ff014863bb9e3fd9436afa20",
            "1876dec809f7412988297ffe77c6f0e5"
          ]
        },
        "id": "WhAvqETXGdWW",
        "outputId": "a04df893-c857-4720-aa4a-8e791d24ee9f"
      },
      "outputs": [
        {
          "name": "stderr",
          "output_type": "stream",
          "text": [
            "WARNING:datasets.builder:Found cached dataset medical_questions_pairs (/root/.cache/huggingface/datasets/medical_questions_pairs/default/0.0.0/db30a35b934dceb7abed5ef6b73a432bb59682d00e26f9a1acd960635333bc80)\n"
          ]
        },
        {
          "data": {
            "application/vnd.jupyter.widget-view+json": {
              "model_id": "1be4e234f9ac4ead96f2b64dbfa635ac",
              "version_major": 2,
              "version_minor": 0
            },
            "text/plain": [
              "  0%|          | 0/1 [00:00<?, ?it/s]"
            ]
          },
          "metadata": {},
          "output_type": "display_data"
        },
        {
          "name": "stderr",
          "output_type": "stream",
          "text": [
            "WARNING:datasets.arrow_dataset:Loading cached split indices for dataset at /root/.cache/huggingface/datasets/medical_questions_pairs/default/0.0.0/db30a35b934dceb7abed5ef6b73a432bb59682d00e26f9a1acd960635333bc80/cache-3a6913e31ee3f147.arrow and /root/.cache/huggingface/datasets/medical_questions_pairs/default/0.0.0/db30a35b934dceb7abed5ef6b73a432bb59682d00e26f9a1acd960635333bc80/cache-55366722f45172c0.arrow\n"
          ]
        }
      ],
      "source": [
        "from datasets import load_dataset\n",
        "\n",
        "# Download and extract data\n",
        "data = load_dataset(\"medical_questions_pairs\")\n",
        "data = data['train']\n",
        "\n",
        "# Split it\n",
        "data = data.train_test_split(test_size=0.07, seed=config.SEED)"
      ]
    },
    {
      "cell_type": "code",
      "execution_count": 4,
      "metadata": {
        "colab": {
          "base_uri": "https://localhost:8080/"
        },
        "id": "Ea2NMw8LGdWX",
        "outputId": "4dbc11ae-33e4-415c-f1ab-004cf218d828"
      },
      "outputs": [
        {
          "data": {
            "text/plain": [
              "DatasetDict({\n",
              "    train: Dataset({\n",
              "        features: ['dr_id', 'question_1', 'question_2', 'label'],\n",
              "        num_rows: 2834\n",
              "    })\n",
              "    test: Dataset({\n",
              "        features: ['dr_id', 'question_1', 'question_2', 'label'],\n",
              "        num_rows: 214\n",
              "    })\n",
              "})"
            ]
          },
          "execution_count": 4,
          "metadata": {},
          "output_type": "execute_result"
        }
      ],
      "source": [
        "data"
      ]
    },
    {
      "cell_type": "markdown",
      "metadata": {
        "id": "2lp1ABKfGdWY"
      },
      "source": [
        "As we can see, there is not that much ammount of samples. We will have to take that into consideration when training the models."
      ]
    },
    {
      "cell_type": "markdown",
      "metadata": {
        "id": "PdTAgAFGGdWZ"
      },
      "source": [
        "### 1.2. Tokenize and encode data\n",
        "\n",
        "As mentioned, we will use **bert-base-cased** tokenizer"
      ]
    },
    {
      "cell_type": "code",
      "execution_count": 3,
      "metadata": {
        "id": "fsJnNoIuGdWZ"
      },
      "outputs": [],
      "source": [
        "from transformers import AutoTokenizer\n",
        "\n",
        "tokenizer = AutoTokenizer.from_pretrained(config.checkpoint, use_fast=True)"
      ]
    },
    {
      "cell_type": "code",
      "execution_count": 4,
      "metadata": {
        "colab": {
          "base_uri": "https://localhost:8080/"
        },
        "id": "-jqBJF_hGdWa",
        "outputId": "e095936f-d1cb-46f3-d292-803f86c566d9"
      },
      "outputs": [
        {
          "name": "stderr",
          "output_type": "stream",
          "text": [
            "WARNING:datasets.arrow_dataset:Loading cached processed dataset at /root/.cache/huggingface/datasets/medical_questions_pairs/default/0.0.0/db30a35b934dceb7abed5ef6b73a432bb59682d00e26f9a1acd960635333bc80/cache-15a9f5503307567b.arrow\n",
            "WARNING:datasets.arrow_dataset:Loading cached processed dataset at /root/.cache/huggingface/datasets/medical_questions_pairs/default/0.0.0/db30a35b934dceb7abed5ef6b73a432bb59682d00e26f9a1acd960635333bc80/cache-b823487c7d95692e.arrow\n"
          ]
        }
      ],
      "source": [
        "data = data.map(lambda x: tokenizer(x['question_1'], x['question_2'], truncation=True, padding='max_length'), batched=True)"
      ]
    },
    {
      "cell_type": "code",
      "execution_count": 5,
      "metadata": {
        "id": "qYfC3W5MGdWb"
      },
      "outputs": [],
      "source": [
        "from transformers import DataCollatorWithPadding\n",
        "\n",
        "data_collator = DataCollatorWithPadding(tokenizer=tokenizer)"
      ]
    },
    {
      "cell_type": "markdown",
      "metadata": {
        "id": "uTBjjMWpGdWb"
      },
      "source": [
        "## 2. Exp 1: Baseline model training\n",
        "\n",
        "Our first experiment consists on a basic training without any fine-tuning. We will freeze all parameters from the base model and just train the las FC layer. "
      ]
    },
    {
      "cell_type": "code",
      "execution_count": 6,
      "metadata": {
        "colab": {
          "base_uri": "https://localhost:8080/"
        },
        "id": "R0_cWx0rGdWc",
        "outputId": "b076796c-5793-4f09-eb4e-599d428d7d2e"
      },
      "outputs": [
        {
          "name": "stderr",
          "output_type": "stream",
          "text": [
            "Some weights of the model checkpoint at bert-base-cased were not used when initializing BertForSequenceClassification: ['cls.predictions.decoder.weight', 'cls.seq_relationship.bias', 'cls.predictions.transform.dense.bias', 'cls.predictions.transform.LayerNorm.weight', 'cls.seq_relationship.weight', 'cls.predictions.transform.LayerNorm.bias', 'cls.predictions.transform.dense.weight', 'cls.predictions.bias']\n",
            "- This IS expected if you are initializing BertForSequenceClassification from the checkpoint of a model trained on another task or with another architecture (e.g. initializing a BertForSequenceClassification model from a BertForPreTraining model).\n",
            "- This IS NOT expected if you are initializing BertForSequenceClassification from the checkpoint of a model that you expect to be exactly identical (initializing a BertForSequenceClassification model from a BertForSequenceClassification model).\n",
            "Some weights of BertForSequenceClassification were not initialized from the model checkpoint at bert-base-cased and are newly initialized: ['classifier.weight', 'classifier.bias']\n",
            "You should probably TRAIN this model on a down-stream task to be able to use it for predictions and inference.\n"
          ]
        }
      ],
      "source": [
        "from transformers import AutoModelForSequenceClassification\n",
        "\n",
        "model = AutoModelForSequenceClassification.from_pretrained(config.checkpoint, num_labels=2)\n",
        "\n",
        "# freeze all params\n",
        "for param in model.bert.parameters():\n",
        "    param.requires_grad = False"
      ]
    },
    {
      "cell_type": "markdown",
      "metadata": {
        "id": "2lxkbJV7GdWc"
      },
      "source": [
        "### 2.1. Init WandB"
      ]
    },
    {
      "cell_type": "code",
      "execution_count": 7,
      "metadata": {
        "colab": {
          "base_uri": "https://localhost:8080/"
        },
        "id": "WAK41BkAGdWd",
        "outputId": "1e8a9699-c0ec-4e04-e141-f6d32382a229"
      },
      "outputs": [
        {
          "name": "stderr",
          "output_type": "stream",
          "text": [
            "ERROR:wandb.jupyter:Failed to detect the name of this notebook, you can set it manually with the WANDB_NOTEBOOK_NAME environment variable to enable code saving.\n",
            "\u001b[34m\u001b[1mwandb\u001b[0m: Currently logged in as: \u001b[33mjjceamoran\u001b[0m. Use \u001b[1m`wandb login --relogin`\u001b[0m to force relogin\n"
          ]
        },
        {
          "data": {
            "text/plain": [
              "True"
            ]
          },
          "execution_count": 7,
          "metadata": {},
          "output_type": "execute_result"
        }
      ],
      "source": [
        "import wandb\n",
        "\n",
        "wandb.login()"
      ]
    },
    {
      "cell_type": "code",
      "execution_count": 8,
      "metadata": {
        "colab": {
          "base_uri": "https://localhost:8080/",
          "height": 69
        },
        "id": "Z1dWGYNrGdWd",
        "outputId": "b5891c51-ba9e-407a-aa7b-70bcf864410c"
      },
      "outputs": [
        {
          "data": {
            "text/html": [
              "Tracking run with wandb version 0.13.7"
            ],
            "text/plain": [
              "<IPython.core.display.HTML object>"
            ]
          },
          "metadata": {},
          "output_type": "display_data"
        },
        {
          "data": {
            "text/html": [
              "Run data is saved locally in <code>/content/wandb/run-20221219_235717-2g34gci2</code>"
            ],
            "text/plain": [
              "<IPython.core.display.HTML object>"
            ]
          },
          "metadata": {},
          "output_type": "display_data"
        },
        {
          "data": {
            "text/html": [
              "Syncing run <strong><a href=\"https://wandb.ai/jjceamoran/fine-tuning-mlms/runs/2g34gci2\" target=\"_blank\">baseline_training</a></strong> to <a href=\"https://wandb.ai/jjceamoran/fine-tuning-mlms\" target=\"_blank\">Weights & Biases</a> (<a href=\"https://wandb.me/run\" target=\"_blank\">docs</a>)<br/>"
            ],
            "text/plain": [
              "<IPython.core.display.HTML object>"
            ]
          },
          "metadata": {},
          "output_type": "display_data"
        }
      ],
      "source": [
        "run_name = 'baseline_training'\n",
        "notes = \"This experiment consists on a basic bert training with all encoder's layers frozen\"\n",
        "run = wandb.init(project='fine-tuning-mlms',\n",
        "           name=run_name,\n",
        "           notes=notes,\n",
        "           job_type='train')\n"
      ]
    },
    {
      "cell_type": "code",
      "execution_count": 9,
      "metadata": {
        "id": "3gfA0smBGdWe"
      },
      "outputs": [],
      "source": [
        "from transformers import Trainer, TrainingArguments\n",
        "from training_aux import compute_metrics\n",
        "import sklearn\n",
        "\n",
        "training_args = TrainingArguments(\n",
        "    output_dir=\"./experiments/\" + run_name,\n",
        "    learning_rate=2e-5, # low learning rate.\n",
        "    per_device_train_batch_size=16,\n",
        "    per_device_eval_batch_size=16,\n",
        "    num_train_epochs=8,\n",
        "    weight_decay=0.01,\n",
        "    evaluation_strategy=\"epoch\",\n",
        "    save_strategy=\"epoch\",\n",
        "    load_best_model_at_end=True,\n",
        "    report_to='wandb',\n",
        "    run_name=run_name\n",
        ")\n",
        "\n",
        "trainer = Trainer(\n",
        "    model=model,\n",
        "    args=training_args,\n",
        "    train_dataset=data['train'],\n",
        "    eval_dataset=data['test'],\n",
        "    tokenizer=tokenizer,\n",
        "    data_collator=data_collator,\n",
        "    compute_metrics=compute_metrics\n",
        ")"
      ]
    },
    {
      "cell_type": "code",
      "execution_count": 10,
      "metadata": {
        "colab": {
          "base_uri": "https://localhost:8080/",
          "height": 1000
        },
        "id": "OoSmMTJnGdWf",
        "outputId": "e84737b7-4a98-4186-e94d-842c4937f62c"
      },
      "outputs": [
        {
          "name": "stderr",
          "output_type": "stream",
          "text": [
            "The following columns in the training set don't have a corresponding argument in `BertForSequenceClassification.forward` and have been ignored: question_2, dr_id, question_1. If question_2, dr_id, question_1 are not expected by `BertForSequenceClassification.forward`,  you can safely ignore this message.\n",
            "/usr/local/lib/python3.8/dist-packages/transformers/optimization.py:306: FutureWarning: This implementation of AdamW is deprecated and will be removed in a future version. Use the PyTorch implementation torch.optim.AdamW instead, or set `no_deprecation_warning=True` to disable this warning\n",
            "  warnings.warn(\n",
            "***** Running training *****\n",
            "  Num examples = 2834\n",
            "  Num Epochs = 8\n",
            "  Instantaneous batch size per device = 16\n",
            "  Total train batch size (w. parallel, distributed & accumulation) = 16\n",
            "  Gradient Accumulation steps = 1\n",
            "  Total optimization steps = 1424\n",
            "  Number of trainable parameters = 1538\n",
            "Automatic Weights & Biases logging enabled, to disable set os.environ[\"WANDB_DISABLED\"] = \"true\"\n",
            "You're using a BertTokenizerFast tokenizer. Please note that with a fast tokenizer, using the `__call__` method is faster than using a method to encode the text followed by a call to the `pad` method to get a padded encoding.\n"
          ]
        },
        {
          "data": {
            "text/html": [
              "\n",
              "    <div>\n",
              "      \n",
              "      <progress value='1424' max='1424' style='width:300px; height:20px; vertical-align: middle;'></progress>\n",
              "      [1424/1424 15:59, Epoch 8/8]\n",
              "    </div>\n",
              "    <table border=\"1\" class=\"dataframe\">\n",
              "  <thead>\n",
              " <tr style=\"text-align: left;\">\n",
              "      <th>Epoch</th>\n",
              "      <th>Training Loss</th>\n",
              "      <th>Validation Loss</th>\n",
              "      <th>Accuracy</th>\n",
              "      <th>F1</th>\n",
              "    </tr>\n",
              "  </thead>\n",
              "  <tbody>\n",
              "    <tr>\n",
              "      <td>1</td>\n",
              "      <td>No log</td>\n",
              "      <td>0.692202</td>\n",
              "      <td>0.550000</td>\n",
              "      <td>1</td>\n",
              "    </tr>\n",
              "    <tr>\n",
              "      <td>2</td>\n",
              "      <td>No log</td>\n",
              "      <td>0.686184</td>\n",
              "      <td>0.580000</td>\n",
              "      <td>1</td>\n",
              "    </tr>\n",
              "    <tr>\n",
              "      <td>3</td>\n",
              "      <td>0.704300</td>\n",
              "      <td>0.680066</td>\n",
              "      <td>0.570000</td>\n",
              "      <td>1</td>\n",
              "    </tr>\n",
              "    <tr>\n",
              "      <td>4</td>\n",
              "      <td>0.704300</td>\n",
              "      <td>0.678746</td>\n",
              "      <td>0.650000</td>\n",
              "      <td>1</td>\n",
              "    </tr>\n",
              "    <tr>\n",
              "      <td>5</td>\n",
              "      <td>0.704300</td>\n",
              "      <td>0.675955</td>\n",
              "      <td>0.650000</td>\n",
              "      <td>1</td>\n",
              "    </tr>\n",
              "    <tr>\n",
              "      <td>6</td>\n",
              "      <td>0.689100</td>\n",
              "      <td>0.674562</td>\n",
              "      <td>0.660000</td>\n",
              "      <td>1</td>\n",
              "    </tr>\n",
              "    <tr>\n",
              "      <td>7</td>\n",
              "      <td>0.689100</td>\n",
              "      <td>0.673423</td>\n",
              "      <td>0.650000</td>\n",
              "      <td>1</td>\n",
              "    </tr>\n",
              "    <tr>\n",
              "      <td>8</td>\n",
              "      <td>0.689100</td>\n",
              "      <td>0.673317</td>\n",
              "      <td>0.660000</td>\n",
              "      <td>1</td>\n",
              "    </tr>\n",
              "  </tbody>\n",
              "</table><p>"
            ],
            "text/plain": [
              "<IPython.core.display.HTML object>"
            ]
          },
          "metadata": {},
          "output_type": "display_data"
        },
        {
          "name": "stderr",
          "output_type": "stream",
          "text": [
            "The following columns in the evaluation set don't have a corresponding argument in `BertForSequenceClassification.forward` and have been ignored: question_2, dr_id, question_1. If question_2, dr_id, question_1 are not expected by `BertForSequenceClassification.forward`,  you can safely ignore this message.\n",
            "***** Running Evaluation *****\n",
            "  Num examples = 214\n",
            "  Batch size = 16\n",
            "Saving model checkpoint to ./experiments/baseline_training/checkpoint-178\n",
            "Configuration saved in ./experiments/baseline_training/checkpoint-178/config.json\n",
            "Model weights saved in ./experiments/baseline_training/checkpoint-178/pytorch_model.bin\n",
            "tokenizer config file saved in ./experiments/baseline_training/checkpoint-178/tokenizer_config.json\n",
            "Special tokens file saved in ./experiments/baseline_training/checkpoint-178/special_tokens_map.json\n",
            "The following columns in the evaluation set don't have a corresponding argument in `BertForSequenceClassification.forward` and have been ignored: question_2, dr_id, question_1. If question_2, dr_id, question_1 are not expected by `BertForSequenceClassification.forward`,  you can safely ignore this message.\n",
            "***** Running Evaluation *****\n",
            "  Num examples = 214\n",
            "  Batch size = 16\n",
            "Saving model checkpoint to ./experiments/baseline_training/checkpoint-356\n",
            "Configuration saved in ./experiments/baseline_training/checkpoint-356/config.json\n",
            "Model weights saved in ./experiments/baseline_training/checkpoint-356/pytorch_model.bin\n",
            "tokenizer config file saved in ./experiments/baseline_training/checkpoint-356/tokenizer_config.json\n",
            "Special tokens file saved in ./experiments/baseline_training/checkpoint-356/special_tokens_map.json\n",
            "The following columns in the evaluation set don't have a corresponding argument in `BertForSequenceClassification.forward` and have been ignored: question_2, dr_id, question_1. If question_2, dr_id, question_1 are not expected by `BertForSequenceClassification.forward`,  you can safely ignore this message.\n",
            "***** Running Evaluation *****\n",
            "  Num examples = 214\n",
            "  Batch size = 16\n",
            "Saving model checkpoint to ./experiments/baseline_training/checkpoint-534\n",
            "Configuration saved in ./experiments/baseline_training/checkpoint-534/config.json\n",
            "Model weights saved in ./experiments/baseline_training/checkpoint-534/pytorch_model.bin\n",
            "tokenizer config file saved in ./experiments/baseline_training/checkpoint-534/tokenizer_config.json\n",
            "Special tokens file saved in ./experiments/baseline_training/checkpoint-534/special_tokens_map.json\n",
            "The following columns in the evaluation set don't have a corresponding argument in `BertForSequenceClassification.forward` and have been ignored: question_2, dr_id, question_1. If question_2, dr_id, question_1 are not expected by `BertForSequenceClassification.forward`,  you can safely ignore this message.\n",
            "***** Running Evaluation *****\n",
            "  Num examples = 214\n",
            "  Batch size = 16\n",
            "Saving model checkpoint to ./experiments/baseline_training/checkpoint-712\n",
            "Configuration saved in ./experiments/baseline_training/checkpoint-712/config.json\n",
            "Model weights saved in ./experiments/baseline_training/checkpoint-712/pytorch_model.bin\n",
            "tokenizer config file saved in ./experiments/baseline_training/checkpoint-712/tokenizer_config.json\n",
            "Special tokens file saved in ./experiments/baseline_training/checkpoint-712/special_tokens_map.json\n",
            "The following columns in the evaluation set don't have a corresponding argument in `BertForSequenceClassification.forward` and have been ignored: question_2, dr_id, question_1. If question_2, dr_id, question_1 are not expected by `BertForSequenceClassification.forward`,  you can safely ignore this message.\n",
            "***** Running Evaluation *****\n",
            "  Num examples = 214\n",
            "  Batch size = 16\n",
            "Saving model checkpoint to ./experiments/baseline_training/checkpoint-890\n",
            "Configuration saved in ./experiments/baseline_training/checkpoint-890/config.json\n",
            "Model weights saved in ./experiments/baseline_training/checkpoint-890/pytorch_model.bin\n",
            "tokenizer config file saved in ./experiments/baseline_training/checkpoint-890/tokenizer_config.json\n",
            "Special tokens file saved in ./experiments/baseline_training/checkpoint-890/special_tokens_map.json\n",
            "The following columns in the evaluation set don't have a corresponding argument in `BertForSequenceClassification.forward` and have been ignored: question_2, dr_id, question_1. If question_2, dr_id, question_1 are not expected by `BertForSequenceClassification.forward`,  you can safely ignore this message.\n",
            "***** Running Evaluation *****\n",
            "  Num examples = 214\n",
            "  Batch size = 16\n",
            "Saving model checkpoint to ./experiments/baseline_training/checkpoint-1068\n",
            "Configuration saved in ./experiments/baseline_training/checkpoint-1068/config.json\n",
            "Model weights saved in ./experiments/baseline_training/checkpoint-1068/pytorch_model.bin\n",
            "tokenizer config file saved in ./experiments/baseline_training/checkpoint-1068/tokenizer_config.json\n",
            "Special tokens file saved in ./experiments/baseline_training/checkpoint-1068/special_tokens_map.json\n",
            "The following columns in the evaluation set don't have a corresponding argument in `BertForSequenceClassification.forward` and have been ignored: question_2, dr_id, question_1. If question_2, dr_id, question_1 are not expected by `BertForSequenceClassification.forward`,  you can safely ignore this message.\n",
            "***** Running Evaluation *****\n",
            "  Num examples = 214\n",
            "  Batch size = 16\n",
            "Saving model checkpoint to ./experiments/baseline_training/checkpoint-1246\n",
            "Configuration saved in ./experiments/baseline_training/checkpoint-1246/config.json\n",
            "Model weights saved in ./experiments/baseline_training/checkpoint-1246/pytorch_model.bin\n",
            "tokenizer config file saved in ./experiments/baseline_training/checkpoint-1246/tokenizer_config.json\n",
            "Special tokens file saved in ./experiments/baseline_training/checkpoint-1246/special_tokens_map.json\n",
            "The following columns in the evaluation set don't have a corresponding argument in `BertForSequenceClassification.forward` and have been ignored: question_2, dr_id, question_1. If question_2, dr_id, question_1 are not expected by `BertForSequenceClassification.forward`,  you can safely ignore this message.\n",
            "***** Running Evaluation *****\n",
            "  Num examples = 214\n",
            "  Batch size = 16\n",
            "Saving model checkpoint to ./experiments/baseline_training/checkpoint-1424\n",
            "Configuration saved in ./experiments/baseline_training/checkpoint-1424/config.json\n",
            "Model weights saved in ./experiments/baseline_training/checkpoint-1424/pytorch_model.bin\n",
            "tokenizer config file saved in ./experiments/baseline_training/checkpoint-1424/tokenizer_config.json\n",
            "Special tokens file saved in ./experiments/baseline_training/checkpoint-1424/special_tokens_map.json\n",
            "\n",
            "\n",
            "Training completed. Do not forget to share your model on huggingface.co/models =)\n",
            "\n",
            "\n",
            "Loading best model from ./experiments/baseline_training/checkpoint-1424 (score: 0.6733174324035645).\n"
          ]
        },
        {
          "data": {
            "text/plain": [
              "TrainOutput(global_step=1424, training_loss=0.6922249311811468, metrics={'train_runtime': 960.3683, 'train_samples_per_second': 23.608, 'train_steps_per_second': 1.483, 'total_flos': 5965253847121920.0, 'train_loss': 0.6922249311811468, 'epoch': 8.0})"
            ]
          },
          "execution_count": 10,
          "metadata": {},
          "output_type": "execute_result"
        }
      ],
      "source": [
        "trainer.train()"
      ]
    },
    {
      "cell_type": "code",
      "execution_count": 11,
      "metadata": {
        "colab": {
          "base_uri": "https://localhost:8080/"
        },
        "id": "bm4ROrnN5cLj",
        "outputId": "1054ba03-b5e1-45e4-f57c-43d521553342"
      },
      "outputs": [
        {
          "name": "stderr",
          "output_type": "stream",
          "text": [
            "\u001b[34m\u001b[1mwandb\u001b[0m: Adding directory to artifact (./experiments/baseline_training/checkpoint-1424)... Done. 2.6s\n"
          ]
        },
        {
          "data": {
            "text/plain": [
              "<wandb.sdk.wandb_artifacts.Artifact at 0x7fe0dc4f1220>"
            ]
          },
          "execution_count": 11,
          "metadata": {},
          "output_type": "execute_result"
        }
      ],
      "source": [
        "# Log model\n",
        "\n",
        "artifact = wandb.Artifact('classifier', type='model')\n",
        "artifact.add_dir('./experiments/baseline_training/checkpoint-1424')\n",
        "wandb.log_artifact(artifact)\n"
      ]
    },
    {
      "cell_type": "markdown",
      "metadata": {
        "id": "loMdt36qGdWf"
      },
      "source": [
        "## 3. Exp: Behavioural finetuning\n",
        "\n",
        "Next thing to test, we want to train the whole model (FCL + BERT) so it is adapted to our specific task.\n",
        "\n",
        "In this case, we will let BERT's weights unfrozen."
      ]
    },
    {
      "cell_type": "code",
      "execution_count": 6,
      "metadata": {
        "colab": {
          "base_uri": "https://localhost:8080/"
        },
        "id": "_UV43s1qGdWg",
        "outputId": "f96424b4-f479-45d8-b52e-14e5a7c37998"
      },
      "outputs": [
        {
          "name": "stderr",
          "output_type": "stream",
          "text": [
            "Some weights of the model checkpoint at bert-base-cased were not used when initializing BertForSequenceClassification: ['cls.seq_relationship.weight', 'cls.predictions.transform.dense.weight', 'cls.predictions.transform.LayerNorm.weight', 'cls.seq_relationship.bias', 'cls.predictions.decoder.weight', 'cls.predictions.transform.dense.bias', 'cls.predictions.bias', 'cls.predictions.transform.LayerNorm.bias']\n",
            "- This IS expected if you are initializing BertForSequenceClassification from the checkpoint of a model trained on another task or with another architecture (e.g. initializing a BertForSequenceClassification model from a BertForPreTraining model).\n",
            "- This IS NOT expected if you are initializing BertForSequenceClassification from the checkpoint of a model that you expect to be exactly identical (initializing a BertForSequenceClassification model from a BertForSequenceClassification model).\n",
            "Some weights of BertForSequenceClassification were not initialized from the model checkpoint at bert-base-cased and are newly initialized: ['classifier.bias', 'classifier.weight']\n",
            "You should probably TRAIN this model on a down-stream task to be able to use it for predictions and inference.\n"
          ]
        }
      ],
      "source": [
        "from transformers import AutoModelForSequenceClassification\n",
        "\n",
        "model = AutoModelForSequenceClassification.from_pretrained(config.checkpoint, num_labels=2)"
      ]
    },
    {
      "cell_type": "markdown",
      "metadata": {
        "id": "7yI93JWlGdWg"
      },
      "source": [
        "### 3.1. Init WandB"
      ]
    },
    {
      "cell_type": "code",
      "execution_count": 7,
      "metadata": {
        "colab": {
          "base_uri": "https://localhost:8080/"
        },
        "id": "2IX9tbfUGdWh",
        "outputId": "ed88ecad-d0f4-4d79-ca49-1c78df35a846"
      },
      "outputs": [
        {
          "name": "stderr",
          "output_type": "stream",
          "text": [
            "ERROR:wandb.jupyter:Failed to detect the name of this notebook, you can set it manually with the WANDB_NOTEBOOK_NAME environment variable to enable code saving.\n",
            "\u001b[34m\u001b[1mwandb\u001b[0m: Currently logged in as: \u001b[33mjjceamoran\u001b[0m. Use \u001b[1m`wandb login --relogin`\u001b[0m to force relogin\n"
          ]
        },
        {
          "data": {
            "text/plain": [
              "True"
            ]
          },
          "execution_count": 7,
          "metadata": {},
          "output_type": "execute_result"
        }
      ],
      "source": [
        "import wandb\n",
        "\n",
        "wandb.login()"
      ]
    },
    {
      "cell_type": "code",
      "execution_count": 8,
      "metadata": {
        "colab": {
          "base_uri": "https://localhost:8080/",
          "height": 69
        },
        "id": "O0uQPh8cGdWh",
        "outputId": "151e46ba-ec15-4c72-c900-2fd8bce7745f"
      },
      "outputs": [
        {
          "data": {
            "text/html": [
              "Tracking run with wandb version 0.13.7"
            ],
            "text/plain": [
              "<IPython.core.display.HTML object>"
            ]
          },
          "metadata": {},
          "output_type": "display_data"
        },
        {
          "data": {
            "text/html": [
              "Run data is saved locally in <code>/content/wandb/run-20221220_002401-t1s4jph8</code>"
            ],
            "text/plain": [
              "<IPython.core.display.HTML object>"
            ]
          },
          "metadata": {},
          "output_type": "display_data"
        },
        {
          "data": {
            "text/html": [
              "Syncing run <strong><a href=\"https://wandb.ai/jjceamoran/fine-tuning-mlms/runs/t1s4jph8\" target=\"_blank\">behavioural_training</a></strong> to <a href=\"https://wandb.ai/jjceamoran/fine-tuning-mlms\" target=\"_blank\">Weights & Biases</a> (<a href=\"https://wandb.me/run\" target=\"_blank\">docs</a>)<br/>"
            ],
            "text/plain": [
              "<IPython.core.display.HTML object>"
            ]
          },
          "metadata": {},
          "output_type": "display_data"
        }
      ],
      "source": [
        "run_name = 'behavioural_training'\n",
        "notes = \"This experiment consists on a behavioural finetuning. We want to adapt the model to our target task by training also the encoder's weights.\"\n",
        "run = wandb.init(project='fine-tuning-mlms',\n",
        "           name=run_name,\n",
        "           notes=notes,\n",
        "           job_type='train')\n"
      ]
    },
    {
      "cell_type": "code",
      "execution_count": 9,
      "metadata": {
        "id": "pyLIBCZ2GdWh"
      },
      "outputs": [],
      "source": [
        "from transformers import Trainer, TrainingArguments\n",
        "from training_aux import compute_metrics\n",
        "import sklearn\n",
        "\n",
        "training_args = TrainingArguments(\n",
        "    output_dir=\"./experiments/\" + run_name,\n",
        "    learning_rate=3e-5, # low learning rate.\n",
        "    per_device_train_batch_size=16,\n",
        "    per_device_eval_batch_size=16,\n",
        "    num_train_epochs=8,\n",
        "    weight_decay=0.01,\n",
        "    evaluation_strategy=\"epoch\",\n",
        "    save_strategy=\"epoch\",\n",
        "    load_best_model_at_end=True,\n",
        "    report_to='wandb',\n",
        "    run_name=run_name\n",
        ")\n",
        "\n",
        "trainer = Trainer(\n",
        "    model=model,\n",
        "    args=training_args,\n",
        "    train_dataset=data['train'],\n",
        "    eval_dataset=data['test'],\n",
        "    tokenizer=tokenizer,\n",
        "    data_collator=data_collator,\n",
        "    compute_metrics=compute_metrics\n",
        ")"
      ]
    },
    {
      "cell_type": "code",
      "execution_count": 10,
      "metadata": {
        "colab": {
          "base_uri": "https://localhost:8080/",
          "height": 1000
        },
        "id": "YWHOLli0GdWi",
        "outputId": "f292e3a1-e301-40da-ea9e-49a804a6a0fa"
      },
      "outputs": [
        {
          "name": "stderr",
          "output_type": "stream",
          "text": [
            "The following columns in the training set don't have a corresponding argument in `BertForSequenceClassification.forward` and have been ignored: question_2, question_1, dr_id. If question_2, question_1, dr_id are not expected by `BertForSequenceClassification.forward`,  you can safely ignore this message.\n",
            "/usr/local/lib/python3.8/dist-packages/transformers/optimization.py:306: FutureWarning: This implementation of AdamW is deprecated and will be removed in a future version. Use the PyTorch implementation torch.optim.AdamW instead, or set `no_deprecation_warning=True` to disable this warning\n",
            "  warnings.warn(\n",
            "***** Running training *****\n",
            "  Num examples = 2834\n",
            "  Num Epochs = 8\n",
            "  Instantaneous batch size per device = 16\n",
            "  Total train batch size (w. parallel, distributed & accumulation) = 16\n",
            "  Gradient Accumulation steps = 1\n",
            "  Total optimization steps = 1424\n",
            "  Number of trainable parameters = 108311810\n",
            "Automatic Weights & Biases logging enabled, to disable set os.environ[\"WANDB_DISABLED\"] = \"true\"\n",
            "You're using a BertTokenizerFast tokenizer. Please note that with a fast tokenizer, using the `__call__` method is faster than using a method to encode the text followed by a call to the `pad` method to get a padded encoding.\n"
          ]
        },
        {
          "data": {
            "text/html": [
              "\n",
              "    <div>\n",
              "      \n",
              "      <progress value='1424' max='1424' style='width:300px; height:20px; vertical-align: middle;'></progress>\n",
              "      [1424/1424 38:03, Epoch 8/8]\n",
              "    </div>\n",
              "    <table border=\"1\" class=\"dataframe\">\n",
              "  <thead>\n",
              " <tr style=\"text-align: left;\">\n",
              "      <th>Epoch</th>\n",
              "      <th>Training Loss</th>\n",
              "      <th>Validation Loss</th>\n",
              "      <th>Accuracy</th>\n",
              "      <th>F1</th>\n",
              "    </tr>\n",
              "  </thead>\n",
              "  <tbody>\n",
              "    <tr>\n",
              "      <td>1</td>\n",
              "      <td>No log</td>\n",
              "      <td>0.496193</td>\n",
              "      <td>0.770000</td>\n",
              "      <td>1</td>\n",
              "    </tr>\n",
              "    <tr>\n",
              "      <td>2</td>\n",
              "      <td>No log</td>\n",
              "      <td>0.511428</td>\n",
              "      <td>0.770000</td>\n",
              "      <td>1</td>\n",
              "    </tr>\n",
              "    <tr>\n",
              "      <td>3</td>\n",
              "      <td>0.432600</td>\n",
              "      <td>0.685371</td>\n",
              "      <td>0.760000</td>\n",
              "      <td>1</td>\n",
              "    </tr>\n",
              "    <tr>\n",
              "      <td>4</td>\n",
              "      <td>0.432600</td>\n",
              "      <td>1.000692</td>\n",
              "      <td>0.780000</td>\n",
              "      <td>1</td>\n",
              "    </tr>\n",
              "    <tr>\n",
              "      <td>5</td>\n",
              "      <td>0.432600</td>\n",
              "      <td>1.091926</td>\n",
              "      <td>0.780000</td>\n",
              "      <td>1</td>\n",
              "    </tr>\n",
              "    <tr>\n",
              "      <td>6</td>\n",
              "      <td>0.140600</td>\n",
              "      <td>1.209835</td>\n",
              "      <td>0.770000</td>\n",
              "      <td>1</td>\n",
              "    </tr>\n",
              "    <tr>\n",
              "      <td>7</td>\n",
              "      <td>0.140600</td>\n",
              "      <td>1.330236</td>\n",
              "      <td>0.770000</td>\n",
              "      <td>1</td>\n",
              "    </tr>\n",
              "    <tr>\n",
              "      <td>8</td>\n",
              "      <td>0.140600</td>\n",
              "      <td>1.358934</td>\n",
              "      <td>0.790000</td>\n",
              "      <td>1</td>\n",
              "    </tr>\n",
              "  </tbody>\n",
              "</table><p>"
            ],
            "text/plain": [
              "<IPython.core.display.HTML object>"
            ]
          },
          "metadata": {},
          "output_type": "display_data"
        },
        {
          "name": "stderr",
          "output_type": "stream",
          "text": [
            "The following columns in the evaluation set don't have a corresponding argument in `BertForSequenceClassification.forward` and have been ignored: question_2, question_1, dr_id. If question_2, question_1, dr_id are not expected by `BertForSequenceClassification.forward`,  you can safely ignore this message.\n",
            "***** Running Evaluation *****\n",
            "  Num examples = 214\n",
            "  Batch size = 16\n",
            "Saving model checkpoint to ./experiments/behavioural_training/checkpoint-178\n",
            "Configuration saved in ./experiments/behavioural_training/checkpoint-178/config.json\n",
            "Model weights saved in ./experiments/behavioural_training/checkpoint-178/pytorch_model.bin\n",
            "tokenizer config file saved in ./experiments/behavioural_training/checkpoint-178/tokenizer_config.json\n",
            "Special tokens file saved in ./experiments/behavioural_training/checkpoint-178/special_tokens_map.json\n",
            "The following columns in the evaluation set don't have a corresponding argument in `BertForSequenceClassification.forward` and have been ignored: question_2, question_1, dr_id. If question_2, question_1, dr_id are not expected by `BertForSequenceClassification.forward`,  you can safely ignore this message.\n",
            "***** Running Evaluation *****\n",
            "  Num examples = 214\n",
            "  Batch size = 16\n",
            "Saving model checkpoint to ./experiments/behavioural_training/checkpoint-356\n",
            "Configuration saved in ./experiments/behavioural_training/checkpoint-356/config.json\n",
            "Model weights saved in ./experiments/behavioural_training/checkpoint-356/pytorch_model.bin\n",
            "tokenizer config file saved in ./experiments/behavioural_training/checkpoint-356/tokenizer_config.json\n",
            "Special tokens file saved in ./experiments/behavioural_training/checkpoint-356/special_tokens_map.json\n",
            "The following columns in the evaluation set don't have a corresponding argument in `BertForSequenceClassification.forward` and have been ignored: question_2, question_1, dr_id. If question_2, question_1, dr_id are not expected by `BertForSequenceClassification.forward`,  you can safely ignore this message.\n",
            "***** Running Evaluation *****\n",
            "  Num examples = 214\n",
            "  Batch size = 16\n",
            "Saving model checkpoint to ./experiments/behavioural_training/checkpoint-534\n",
            "Configuration saved in ./experiments/behavioural_training/checkpoint-534/config.json\n",
            "Model weights saved in ./experiments/behavioural_training/checkpoint-534/pytorch_model.bin\n",
            "tokenizer config file saved in ./experiments/behavioural_training/checkpoint-534/tokenizer_config.json\n",
            "Special tokens file saved in ./experiments/behavioural_training/checkpoint-534/special_tokens_map.json\n",
            "The following columns in the evaluation set don't have a corresponding argument in `BertForSequenceClassification.forward` and have been ignored: question_2, question_1, dr_id. If question_2, question_1, dr_id are not expected by `BertForSequenceClassification.forward`,  you can safely ignore this message.\n",
            "***** Running Evaluation *****\n",
            "  Num examples = 214\n",
            "  Batch size = 16\n",
            "Saving model checkpoint to ./experiments/behavioural_training/checkpoint-712\n",
            "Configuration saved in ./experiments/behavioural_training/checkpoint-712/config.json\n",
            "Model weights saved in ./experiments/behavioural_training/checkpoint-712/pytorch_model.bin\n",
            "tokenizer config file saved in ./experiments/behavioural_training/checkpoint-712/tokenizer_config.json\n",
            "Special tokens file saved in ./experiments/behavioural_training/checkpoint-712/special_tokens_map.json\n",
            "The following columns in the evaluation set don't have a corresponding argument in `BertForSequenceClassification.forward` and have been ignored: question_2, question_1, dr_id. If question_2, question_1, dr_id are not expected by `BertForSequenceClassification.forward`,  you can safely ignore this message.\n",
            "***** Running Evaluation *****\n",
            "  Num examples = 214\n",
            "  Batch size = 16\n",
            "Saving model checkpoint to ./experiments/behavioural_training/checkpoint-890\n",
            "Configuration saved in ./experiments/behavioural_training/checkpoint-890/config.json\n",
            "Model weights saved in ./experiments/behavioural_training/checkpoint-890/pytorch_model.bin\n",
            "tokenizer config file saved in ./experiments/behavioural_training/checkpoint-890/tokenizer_config.json\n",
            "Special tokens file saved in ./experiments/behavioural_training/checkpoint-890/special_tokens_map.json\n",
            "The following columns in the evaluation set don't have a corresponding argument in `BertForSequenceClassification.forward` and have been ignored: question_2, question_1, dr_id. If question_2, question_1, dr_id are not expected by `BertForSequenceClassification.forward`,  you can safely ignore this message.\n",
            "***** Running Evaluation *****\n",
            "  Num examples = 214\n",
            "  Batch size = 16\n",
            "Saving model checkpoint to ./experiments/behavioural_training/checkpoint-1068\n",
            "Configuration saved in ./experiments/behavioural_training/checkpoint-1068/config.json\n",
            "Model weights saved in ./experiments/behavioural_training/checkpoint-1068/pytorch_model.bin\n",
            "tokenizer config file saved in ./experiments/behavioural_training/checkpoint-1068/tokenizer_config.json\n",
            "Special tokens file saved in ./experiments/behavioural_training/checkpoint-1068/special_tokens_map.json\n",
            "The following columns in the evaluation set don't have a corresponding argument in `BertForSequenceClassification.forward` and have been ignored: question_2, question_1, dr_id. If question_2, question_1, dr_id are not expected by `BertForSequenceClassification.forward`,  you can safely ignore this message.\n",
            "***** Running Evaluation *****\n",
            "  Num examples = 214\n",
            "  Batch size = 16\n",
            "Saving model checkpoint to ./experiments/behavioural_training/checkpoint-1246\n",
            "Configuration saved in ./experiments/behavioural_training/checkpoint-1246/config.json\n",
            "Model weights saved in ./experiments/behavioural_training/checkpoint-1246/pytorch_model.bin\n",
            "tokenizer config file saved in ./experiments/behavioural_training/checkpoint-1246/tokenizer_config.json\n",
            "Special tokens file saved in ./experiments/behavioural_training/checkpoint-1246/special_tokens_map.json\n",
            "The following columns in the evaluation set don't have a corresponding argument in `BertForSequenceClassification.forward` and have been ignored: question_2, question_1, dr_id. If question_2, question_1, dr_id are not expected by `BertForSequenceClassification.forward`,  you can safely ignore this message.\n",
            "***** Running Evaluation *****\n",
            "  Num examples = 214\n",
            "  Batch size = 16\n",
            "Saving model checkpoint to ./experiments/behavioural_training/checkpoint-1424\n",
            "Configuration saved in ./experiments/behavioural_training/checkpoint-1424/config.json\n",
            "Model weights saved in ./experiments/behavioural_training/checkpoint-1424/pytorch_model.bin\n",
            "tokenizer config file saved in ./experiments/behavioural_training/checkpoint-1424/tokenizer_config.json\n",
            "Special tokens file saved in ./experiments/behavioural_training/checkpoint-1424/special_tokens_map.json\n",
            "\n",
            "\n",
            "Training completed. Do not forget to share your model on huggingface.co/models =)\n",
            "\n",
            "\n",
            "Loading best model from ./experiments/behavioural_training/checkpoint-178 (score: 0.4961933195590973).\n"
          ]
        },
        {
          "data": {
            "text/plain": [
              "TrainOutput(global_step=1424, training_loss=0.2111153207468183, metrics={'train_runtime': 2286.0683, 'train_samples_per_second': 9.917, 'train_steps_per_second': 0.623, 'total_flos': 5965253847121920.0, 'train_loss': 0.2111153207468183, 'epoch': 8.0})"
            ]
          },
          "execution_count": 10,
          "metadata": {},
          "output_type": "execute_result"
        }
      ],
      "source": [
        "trainer.train()"
      ]
    },
    {
      "cell_type": "code",
      "execution_count": null,
      "metadata": {
        "id": "-QaJ4zaM600l"
      },
      "outputs": [],
      "source": [
        "# Log model\n",
        "\n",
        "artifact = wandb.Artifact('classifier', type='model')\n",
        "artifact.add_dir('./experiments/baseline_training/checkpoint-1424')\n",
        "wandb.log_artifact(artifact)"
      ]
    }
  ],
  "metadata": {
    "accelerator": "GPU",
    "colab": {
      "collapsed_sections": [
        "uTBjjMWpGdWb"
      ],
      "provenance": []
    },
    "gpuClass": "standard",
    "kernelspec": {
      "display_name": "projects",
      "language": "python",
      "name": "python3"
    },
    "language_info": {
      "codemirror_mode": {
        "name": "ipython",
        "version": 3
      },
      "file_extension": ".py",
      "mimetype": "text/x-python",
      "name": "python",
      "nbconvert_exporter": "python",
      "pygments_lexer": "ipython3",
      "version": "3.10.8"
    },
    "orig_nbformat": 4,
    "vscode": {
      "interpreter": {
        "hash": "99001e2704ac6f7d0e01cf3f3c65c4a3c3569f1fa86956f5c9ed2a5b3d759ab2"
      }
    },
    "widgets": {
      "application/vnd.jupyter.widget-state+json": {
        "1876dec809f7412988297ffe77c6f0e5": {
          "model_module": "@jupyter-widgets/controls",
          "model_module_version": "1.5.0",
          "model_name": "DescriptionStyleModel",
          "state": {
            "_model_module": "@jupyter-widgets/controls",
            "_model_module_version": "1.5.0",
            "_model_name": "DescriptionStyleModel",
            "_view_count": null,
            "_view_module": "@jupyter-widgets/base",
            "_view_module_version": "1.2.0",
            "_view_name": "StyleView",
            "description_width": ""
          }
        },
        "1be4e234f9ac4ead96f2b64dbfa635ac": {
          "model_module": "@jupyter-widgets/controls",
          "model_module_version": "1.5.0",
          "model_name": "HBoxModel",
          "state": {
            "_dom_classes": [],
            "_model_module": "@jupyter-widgets/controls",
            "_model_module_version": "1.5.0",
            "_model_name": "HBoxModel",
            "_view_count": null,
            "_view_module": "@jupyter-widgets/controls",
            "_view_module_version": "1.5.0",
            "_view_name": "HBoxView",
            "box_style": "",
            "children": [
              "IPY_MODEL_80eda690442d48f18bbc8cb7326ef88b",
              "IPY_MODEL_83f3ea3cf8354ddebd121873704be1af",
              "IPY_MODEL_f18c8ea16c5d4dcab77052ea0b61cee1"
            ],
            "layout": "IPY_MODEL_a435e52cd3ef4c9584353883936918c1"
          }
        },
        "45e8615464694e078038648e4568c158": {
          "model_module": "@jupyter-widgets/controls",
          "model_module_version": "1.5.0",
          "model_name": "ProgressStyleModel",
          "state": {
            "_model_module": "@jupyter-widgets/controls",
            "_model_module_version": "1.5.0",
            "_model_name": "ProgressStyleModel",
            "_view_count": null,
            "_view_module": "@jupyter-widgets/base",
            "_view_module_version": "1.2.0",
            "_view_name": "StyleView",
            "bar_color": null,
            "description_width": ""
          }
        },
        "80eda690442d48f18bbc8cb7326ef88b": {
          "model_module": "@jupyter-widgets/controls",
          "model_module_version": "1.5.0",
          "model_name": "HTMLModel",
          "state": {
            "_dom_classes": [],
            "_model_module": "@jupyter-widgets/controls",
            "_model_module_version": "1.5.0",
            "_model_name": "HTMLModel",
            "_view_count": null,
            "_view_module": "@jupyter-widgets/controls",
            "_view_module_version": "1.5.0",
            "_view_name": "HTMLView",
            "description": "",
            "description_tooltip": null,
            "layout": "IPY_MODEL_888fbfb8e23c459b98a8031586dfada9",
            "placeholder": "​",
            "style": "IPY_MODEL_841aaf98e9fe4324b7cb75c59560c808",
            "value": "100%"
          }
        },
        "83f3ea3cf8354ddebd121873704be1af": {
          "model_module": "@jupyter-widgets/controls",
          "model_module_version": "1.5.0",
          "model_name": "FloatProgressModel",
          "state": {
            "_dom_classes": [],
            "_model_module": "@jupyter-widgets/controls",
            "_model_module_version": "1.5.0",
            "_model_name": "FloatProgressModel",
            "_view_count": null,
            "_view_module": "@jupyter-widgets/controls",
            "_view_module_version": "1.5.0",
            "_view_name": "ProgressView",
            "bar_style": "success",
            "description": "",
            "description_tooltip": null,
            "layout": "IPY_MODEL_c7ea433e60b740f0b330615bf8af5171",
            "max": 1,
            "min": 0,
            "orientation": "horizontal",
            "style": "IPY_MODEL_45e8615464694e078038648e4568c158",
            "value": 1
          }
        },
        "841aaf98e9fe4324b7cb75c59560c808": {
          "model_module": "@jupyter-widgets/controls",
          "model_module_version": "1.5.0",
          "model_name": "DescriptionStyleModel",
          "state": {
            "_model_module": "@jupyter-widgets/controls",
            "_model_module_version": "1.5.0",
            "_model_name": "DescriptionStyleModel",
            "_view_count": null,
            "_view_module": "@jupyter-widgets/base",
            "_view_module_version": "1.2.0",
            "_view_name": "StyleView",
            "description_width": ""
          }
        },
        "888fbfb8e23c459b98a8031586dfada9": {
          "model_module": "@jupyter-widgets/base",
          "model_module_version": "1.2.0",
          "model_name": "LayoutModel",
          "state": {
            "_model_module": "@jupyter-widgets/base",
            "_model_module_version": "1.2.0",
            "_model_name": "LayoutModel",
            "_view_count": null,
            "_view_module": "@jupyter-widgets/base",
            "_view_module_version": "1.2.0",
            "_view_name": "LayoutView",
            "align_content": null,
            "align_items": null,
            "align_self": null,
            "border": null,
            "bottom": null,
            "display": null,
            "flex": null,
            "flex_flow": null,
            "grid_area": null,
            "grid_auto_columns": null,
            "grid_auto_flow": null,
            "grid_auto_rows": null,
            "grid_column": null,
            "grid_gap": null,
            "grid_row": null,
            "grid_template_areas": null,
            "grid_template_columns": null,
            "grid_template_rows": null,
            "height": null,
            "justify_content": null,
            "justify_items": null,
            "left": null,
            "margin": null,
            "max_height": null,
            "max_width": null,
            "min_height": null,
            "min_width": null,
            "object_fit": null,
            "object_position": null,
            "order": null,
            "overflow": null,
            "overflow_x": null,
            "overflow_y": null,
            "padding": null,
            "right": null,
            "top": null,
            "visibility": null,
            "width": null
          }
        },
        "a435e52cd3ef4c9584353883936918c1": {
          "model_module": "@jupyter-widgets/base",
          "model_module_version": "1.2.0",
          "model_name": "LayoutModel",
          "state": {
            "_model_module": "@jupyter-widgets/base",
            "_model_module_version": "1.2.0",
            "_model_name": "LayoutModel",
            "_view_count": null,
            "_view_module": "@jupyter-widgets/base",
            "_view_module_version": "1.2.0",
            "_view_name": "LayoutView",
            "align_content": null,
            "align_items": null,
            "align_self": null,
            "border": null,
            "bottom": null,
            "display": null,
            "flex": null,
            "flex_flow": null,
            "grid_area": null,
            "grid_auto_columns": null,
            "grid_auto_flow": null,
            "grid_auto_rows": null,
            "grid_column": null,
            "grid_gap": null,
            "grid_row": null,
            "grid_template_areas": null,
            "grid_template_columns": null,
            "grid_template_rows": null,
            "height": null,
            "justify_content": null,
            "justify_items": null,
            "left": null,
            "margin": null,
            "max_height": null,
            "max_width": null,
            "min_height": null,
            "min_width": null,
            "object_fit": null,
            "object_position": null,
            "order": null,
            "overflow": null,
            "overflow_x": null,
            "overflow_y": null,
            "padding": null,
            "right": null,
            "top": null,
            "visibility": null,
            "width": null
          }
        },
        "a72990f9ff014863bb9e3fd9436afa20": {
          "model_module": "@jupyter-widgets/base",
          "model_module_version": "1.2.0",
          "model_name": "LayoutModel",
          "state": {
            "_model_module": "@jupyter-widgets/base",
            "_model_module_version": "1.2.0",
            "_model_name": "LayoutModel",
            "_view_count": null,
            "_view_module": "@jupyter-widgets/base",
            "_view_module_version": "1.2.0",
            "_view_name": "LayoutView",
            "align_content": null,
            "align_items": null,
            "align_self": null,
            "border": null,
            "bottom": null,
            "display": null,
            "flex": null,
            "flex_flow": null,
            "grid_area": null,
            "grid_auto_columns": null,
            "grid_auto_flow": null,
            "grid_auto_rows": null,
            "grid_column": null,
            "grid_gap": null,
            "grid_row": null,
            "grid_template_areas": null,
            "grid_template_columns": null,
            "grid_template_rows": null,
            "height": null,
            "justify_content": null,
            "justify_items": null,
            "left": null,
            "margin": null,
            "max_height": null,
            "max_width": null,
            "min_height": null,
            "min_width": null,
            "object_fit": null,
            "object_position": null,
            "order": null,
            "overflow": null,
            "overflow_x": null,
            "overflow_y": null,
            "padding": null,
            "right": null,
            "top": null,
            "visibility": null,
            "width": null
          }
        },
        "c7ea433e60b740f0b330615bf8af5171": {
          "model_module": "@jupyter-widgets/base",
          "model_module_version": "1.2.0",
          "model_name": "LayoutModel",
          "state": {
            "_model_module": "@jupyter-widgets/base",
            "_model_module_version": "1.2.0",
            "_model_name": "LayoutModel",
            "_view_count": null,
            "_view_module": "@jupyter-widgets/base",
            "_view_module_version": "1.2.0",
            "_view_name": "LayoutView",
            "align_content": null,
            "align_items": null,
            "align_self": null,
            "border": null,
            "bottom": null,
            "display": null,
            "flex": null,
            "flex_flow": null,
            "grid_area": null,
            "grid_auto_columns": null,
            "grid_auto_flow": null,
            "grid_auto_rows": null,
            "grid_column": null,
            "grid_gap": null,
            "grid_row": null,
            "grid_template_areas": null,
            "grid_template_columns": null,
            "grid_template_rows": null,
            "height": null,
            "justify_content": null,
            "justify_items": null,
            "left": null,
            "margin": null,
            "max_height": null,
            "max_width": null,
            "min_height": null,
            "min_width": null,
            "object_fit": null,
            "object_position": null,
            "order": null,
            "overflow": null,
            "overflow_x": null,
            "overflow_y": null,
            "padding": null,
            "right": null,
            "top": null,
            "visibility": null,
            "width": null
          }
        },
        "f18c8ea16c5d4dcab77052ea0b61cee1": {
          "model_module": "@jupyter-widgets/controls",
          "model_module_version": "1.5.0",
          "model_name": "HTMLModel",
          "state": {
            "_dom_classes": [],
            "_model_module": "@jupyter-widgets/controls",
            "_model_module_version": "1.5.0",
            "_model_name": "HTMLModel",
            "_view_count": null,
            "_view_module": "@jupyter-widgets/controls",
            "_view_module_version": "1.5.0",
            "_view_name": "HTMLView",
            "description": "",
            "description_tooltip": null,
            "layout": "IPY_MODEL_a72990f9ff014863bb9e3fd9436afa20",
            "placeholder": "​",
            "style": "IPY_MODEL_1876dec809f7412988297ffe77c6f0e5",
            "value": " 1/1 [00:00&lt;00:00, 22.85it/s]"
          }
        }
      }
    }
  },
  "nbformat": 4,
  "nbformat_minor": 0
}
